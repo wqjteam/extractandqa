{
 "cells": [
  {
   "cell_type": "markdown",
   "metadata": {
    "pycharm": {
     "name": "#%% md\n"
    }
   },
   "source": [
    "# 遗址文化领域知识抽取与问答挑战赛UIE-Baseline\n",
    "\n",
    "## 赛题概要\n",
    "赛题名称：遗址文化领域知识抽取与问答挑战赛-知识抽取UIE-Baseline\n",
    "\n",
    "举办方：科大讯飞股份有限公司\n",
    "\n",
    "赛题链接：[点击直达](https://challenge.xfyun.cn/topic/info?type=heritage-culture&ch=ds22-dw-zmt07)\n",
    "\n",
    "## 赛事背景\n",
    "遗址文化是民族的瑰宝，为提高遗址文化保护水平、增强中华优秀传统文化教育、更好发挥文化传承创新功能、服务地方经济社会发展，通过知识图谱、知识问答交互等新技术进一步提升遗迹文化的表现形式，提供更好的遗址文化旅游体验和宣传效果。为了实现对遗址文化领域知识的精准回答，首先需要从语料中抽取结构化的三元组知识，然后基于抽取到的三元组，利用KBQA算法实现对遗址文化类知识问题的回答。包含两个子任务，遗迹文化知识抽取和遗址文化知识问答。由于遗址文化领域的文本资源丰富，知识类型较多，标注数据较少，需要研发人员基于小样本来开发相关知识抽取与问答模型，因此具有一定的挑战性，受到业界的广泛关注。\n",
    "\n",
    "## 赛事任务\n",
    "给定遗址文化领域信息抽取schema约束集合及待抽取语料，其中schema定义了关系P以及其对应的主体S和客体O的类别，例如（S_TYPE:遗址，P:馆藏地点，O_TYPE:地址）、（S_TYPE:文物，P:所属年代，O_TYPE:年代）等。对于事件按定义的事件Schema抽取事件类型和论元，输出形式：（S_TYPE:事件类型，P:论元名称，O_TYPE:论元值）。任务要求参评系统自动地对句子进行分析，输出句子中所有满足schema约束的SPO三元组知识Triples=(S1, P1, O1), (S2, P2, O2)。\n",
    "\n",
    "输入/输出:\n",
    "\n",
    "(1) 输入:schema约束集合及句子sent\n",
    "\n",
    "(2) 输出:句子sent中包含的符合给定schema约束的三元组知识Triples\n",
    "\n",
    "实体关系三元组样例如下：\n",
    "\n",
    "![](https://ai-studio-static-online.cdn.bcebos.com/59fce906aff54004aa132655bed33eecdfcd787db8e849648167a779f803dfad)\n",
    "\n",
    "\n",
    "子任务2：基于抽取的遗址三元组知识的智能问答任务。\n",
    "输入：给定知识图谱，以及自然语言式问句。输出：问句答案。\n",
    "\n",
    "给定知识图谱为基于子任务1抽取的三元组以及部分补充三元组构成的遗址文化领域知识图谱。\n",
    "\n",
    "![](https://ai-studio-static-online.cdn.bcebos.com/0e182ca9429a405280a7c0a701e62c7441b2022bf2dd47a4bfe73fd256e3dd7f)\n",
    "\n",
    "\n",
    "## 评审规则\n",
    "1. 数据说明\n",
    "此次比赛分为初赛和复赛两个阶段，两个阶段子任务不同，因此本次竞赛使用的数据集有2个。\n",
    "\n",
    "初赛数据集是遗址文化领域基于Schema的中文信息抽取数据集，其中包含待抽取语料和已定义好的Schema。Schema表展示了数据集中包含的schema及对应的例子。数据集中的句子主要来自互联网语料和相关的图书史料。数据集划分为训练集，验证集和测试集。其中训练集用于训练可自由下载，验证集供参赛者自主验证，**初赛测试集在初赛结束前一周发布，测试结果将作为最终的评测排名**。\n",
    "\n",
    "**复赛数据集同初赛测试集一同发布**。复赛数据集为遗址文化领域知识问答任务数据集，其中包括给定的三元组集合以及标注好的“问题-答案”形式的训练集和验证集。复赛测试集在复赛结束前一周发布，测试结果作为复赛阶段最终的评测排名。\n",
    "\n",
    "2. 评估指标\n",
    "**初赛评价指标**：参赛者在测试集上给出的SPO结果和测试集标注结果进行精准匹配，采用Precision，Recall和F1值作为评价指标。\n",
    "\n",
    "准确率P = 抽取三元组和标注三元组匹配的个数 / 抽取三元组个数\n",
    "\n",
    "召回率R = 抽取三元组和标注三元组匹配的个数 / 标注三元组个数\n",
    "\n",
    "属性F值 F1= 2 P R / ( P+ R)\n",
    "\n",
    "**复赛评价指标**：参赛者针对测试集上的问题给出答案，用该答案与测试集标注结果进行精准匹配，采用正确率作为评价指标。\n",
    "\n",
    "正确率Acc=正确回答个数/总问题数\n",
    "\n",
    "\n",
    "\n",
    "## 具体思路\n",
    "训练集总计800条，并不是很多\n",
    "\n",
    "参考百度飞浆的[UIE教程文档](https://www.paddlepaddle.org.cn/tutorials/projectdetail/4035127)借助UIE模型进行few-shot微调，UIE基线版本是通过大量的有标签样本进行训练，但是UIE抽取的效果面对部分子领域的效果也不是令人满意，UIE可以通过小样本就可以快速提升效果。\n",
    "\n",
    "为什么UIE可以通过小样本来提升效果呢？\n",
    "UIE的建模方式主要是通过 Prompt 方式来建模， Prompt 在小样本上进行微调效果非常有效，如下面所示\n",
    "![](https://ai-studio-static-online.cdn.bcebos.com/358abd2bc7e546e5bd0c4a08abc4ab534f6048a0b95e494da0d3fbd042fbe65d)\n",
    "\n",
    "\n",
    "## 验证集效果\n",
    "\n",
    "一轮UIE-base微调，请前往AIstudio[遗址文化领域知识抽取与问答挑战赛UIE-Baseline](https://aistudio.baidu.com/aistudio/projectdetail/4222268?contributionType=1) Fork完整项目\n",
    "F1值：0.43516\n",
    "\n",
    "## 后续改进\n",
    "\n",
    "- 信息抽取相关知识还在不断学习中\n"
   ]
  },
  {
   "cell_type": "code",
   "execution_count": 1,
   "metadata": {
    "execution": {
     "iopub.execute_input": "2022-06-15T00:10:47.930550Z",
     "iopub.status.busy": "2022-06-15T00:10:47.930243Z",
     "iopub.status.idle": "2022-06-15T00:10:50.541303Z",
     "shell.execute_reply": "2022-06-15T00:10:50.540500Z",
     "shell.execute_reply.started": "2022-06-15T00:10:47.930526Z"
    },
    "scrolled": true,
    "tags": []
   },
   "outputs": [
    {
     "name": "stdout",
     "output_type": "stream",
     "text": [
      "Looking in indexes: https://pypi.tuna.tsinghua.edu.cn/simple\n",
      "Requirement already satisfied: paddlenlp==2.3.1 in /opt/conda/envs/python35-paddle120-env/lib/python3.7/site-packages (2.3.1)\n",
      "Requirement already satisfied: datasets>=2.0.0 in /opt/conda/envs/python35-paddle120-env/lib/python3.7/site-packages (from paddlenlp==2.3.1) (2.3.0)\n",
      "Requirement already satisfied: jieba in /opt/conda/envs/python35-paddle120-env/lib/python3.7/site-packages (from paddlenlp==2.3.1) (0.42.1)\n",
      "Requirement already satisfied: paddlefsl in /opt/conda/envs/python35-paddle120-env/lib/python3.7/site-packages (from paddlenlp==2.3.1) (1.1.0)\n",
      "Requirement already satisfied: seqeval in /opt/conda/envs/python35-paddle120-env/lib/python3.7/site-packages (from paddlenlp==2.3.1) (1.2.2)\n",
      "Requirement already satisfied: tqdm in /opt/conda/envs/python35-paddle120-env/lib/python3.7/site-packages (from paddlenlp==2.3.1) (4.64.0)\n",
      "Requirement already satisfied: multiprocess in /opt/conda/envs/python35-paddle120-env/lib/python3.7/site-packages (from paddlenlp==2.3.1) (0.70.11.1)\n",
      "Requirement already satisfied: colorlog in /opt/conda/envs/python35-paddle120-env/lib/python3.7/site-packages (from paddlenlp==2.3.1) (4.1.0)\n",
      "Requirement already satisfied: paddle2onnx in /opt/conda/envs/python35-paddle120-env/lib/python3.7/site-packages (from paddlenlp==2.3.1) (0.9.7)\n",
      "Requirement already satisfied: colorama in /opt/conda/envs/python35-paddle120-env/lib/python3.7/site-packages (from paddlenlp==2.3.1) (0.4.4)\n",
      "Requirement already satisfied: sentencepiece in /opt/conda/envs/python35-paddle120-env/lib/python3.7/site-packages (from paddlenlp==2.3.1) (0.1.96)\n",
      "Requirement already satisfied: requests>=2.19.0 in /opt/conda/envs/python35-paddle120-env/lib/python3.7/site-packages (from datasets>=2.0.0->paddlenlp==2.3.1) (2.24.0)\n",
      "Requirement already satisfied: xxhash in /opt/conda/envs/python35-paddle120-env/lib/python3.7/site-packages (from datasets>=2.0.0->paddlenlp==2.3.1) (3.0.0)\n",
      "Requirement already satisfied: packaging in /opt/conda/envs/python35-paddle120-env/lib/python3.7/site-packages (from datasets>=2.0.0->paddlenlp==2.3.1) (21.3)\n",
      "Requirement already satisfied: responses<0.19 in /opt/conda/envs/python35-paddle120-env/lib/python3.7/site-packages (from datasets>=2.0.0->paddlenlp==2.3.1) (0.18.0)\n",
      "Requirement already satisfied: pyarrow>=6.0.0 in /opt/conda/envs/python35-paddle120-env/lib/python3.7/site-packages (from datasets>=2.0.0->paddlenlp==2.3.1) (8.0.0)\n",
      "Requirement already satisfied: aiohttp in /opt/conda/envs/python35-paddle120-env/lib/python3.7/site-packages (from datasets>=2.0.0->paddlenlp==2.3.1) (3.8.1)\n",
      "Requirement already satisfied: dill<0.3.6 in /opt/conda/envs/python35-paddle120-env/lib/python3.7/site-packages (from datasets>=2.0.0->paddlenlp==2.3.1) (0.3.3)\n",
      "Requirement already satisfied: huggingface-hub<1.0.0,>=0.1.0 in /opt/conda/envs/python35-paddle120-env/lib/python3.7/site-packages (from datasets>=2.0.0->paddlenlp==2.3.1) (0.7.0)\n",
      "Requirement already satisfied: pandas in /opt/conda/envs/python35-paddle120-env/lib/python3.7/site-packages (from datasets>=2.0.0->paddlenlp==2.3.1) (1.1.5)\n",
      "Requirement already satisfied: numpy>=1.17 in /opt/conda/envs/python35-paddle120-env/lib/python3.7/site-packages (from datasets>=2.0.0->paddlenlp==2.3.1) (1.19.5)\n",
      "Requirement already satisfied: fsspec[http]>=2021.05.0 in /opt/conda/envs/python35-paddle120-env/lib/python3.7/site-packages (from datasets>=2.0.0->paddlenlp==2.3.1) (2022.5.0)\n",
      "Requirement already satisfied: importlib-metadata in /opt/conda/envs/python35-paddle120-env/lib/python3.7/site-packages (from datasets>=2.0.0->paddlenlp==2.3.1) (4.2.0)\n",
      "Requirement already satisfied: scikit-learn>=0.21.3 in /opt/conda/envs/python35-paddle120-env/lib/python3.7/site-packages (from seqeval->paddlenlp==2.3.1) (0.24.2)\n",
      "Requirement already satisfied: filelock in /opt/conda/envs/python35-paddle120-env/lib/python3.7/site-packages (from huggingface-hub<1.0.0,>=0.1.0->datasets>=2.0.0->paddlenlp==2.3.1) (3.0.12)\n",
      "Requirement already satisfied: pyyaml>=5.1 in /opt/conda/envs/python35-paddle120-env/lib/python3.7/site-packages (from huggingface-hub<1.0.0,>=0.1.0->datasets>=2.0.0->paddlenlp==2.3.1) (5.1.2)\n",
      "Requirement already satisfied: typing-extensions>=3.7.4.3 in /opt/conda/envs/python35-paddle120-env/lib/python3.7/site-packages (from huggingface-hub<1.0.0,>=0.1.0->datasets>=2.0.0->paddlenlp==2.3.1) (4.2.0)\n",
      "Requirement already satisfied: pyparsing!=3.0.5,>=2.0.2 in /opt/conda/envs/python35-paddle120-env/lib/python3.7/site-packages (from packaging->datasets>=2.0.0->paddlenlp==2.3.1) (3.0.8)\n",
      "Requirement already satisfied: urllib3!=1.25.0,!=1.25.1,<1.26,>=1.21.1 in /opt/conda/envs/python35-paddle120-env/lib/python3.7/site-packages (from requests>=2.19.0->datasets>=2.0.0->paddlenlp==2.3.1) (1.25.11)\n",
      "Requirement already satisfied: certifi>=2017.4.17 in /opt/conda/envs/python35-paddle120-env/lib/python3.7/site-packages (from requests>=2.19.0->datasets>=2.0.0->paddlenlp==2.3.1) (2019.9.11)\n",
      "Requirement already satisfied: chardet<4,>=3.0.2 in /opt/conda/envs/python35-paddle120-env/lib/python3.7/site-packages (from requests>=2.19.0->datasets>=2.0.0->paddlenlp==2.3.1) (3.0.4)\n",
      "Requirement already satisfied: idna<3,>=2.5 in /opt/conda/envs/python35-paddle120-env/lib/python3.7/site-packages (from requests>=2.19.0->datasets>=2.0.0->paddlenlp==2.3.1) (2.8)\n",
      "Requirement already satisfied: scipy>=0.19.1 in /opt/conda/envs/python35-paddle120-env/lib/python3.7/site-packages (from scikit-learn>=0.21.3->seqeval->paddlenlp==2.3.1) (1.6.3)\n",
      "Requirement already satisfied: threadpoolctl>=2.0.0 in /opt/conda/envs/python35-paddle120-env/lib/python3.7/site-packages (from scikit-learn>=0.21.3->seqeval->paddlenlp==2.3.1) (2.1.0)\n",
      "Requirement already satisfied: joblib>=0.11 in /opt/conda/envs/python35-paddle120-env/lib/python3.7/site-packages (from scikit-learn>=0.21.3->seqeval->paddlenlp==2.3.1) (0.14.1)\n",
      "Requirement already satisfied: multidict<7.0,>=4.5 in /opt/conda/envs/python35-paddle120-env/lib/python3.7/site-packages (from aiohttp->datasets>=2.0.0->paddlenlp==2.3.1) (6.0.2)\n",
      "Requirement already satisfied: frozenlist>=1.1.1 in /opt/conda/envs/python35-paddle120-env/lib/python3.7/site-packages (from aiohttp->datasets>=2.0.0->paddlenlp==2.3.1) (1.3.0)\n",
      "Requirement already satisfied: async-timeout<5.0,>=4.0.0a3 in /opt/conda/envs/python35-paddle120-env/lib/python3.7/site-packages (from aiohttp->datasets>=2.0.0->paddlenlp==2.3.1) (4.0.2)\n",
      "Requirement already satisfied: yarl<2.0,>=1.0 in /opt/conda/envs/python35-paddle120-env/lib/python3.7/site-packages (from aiohttp->datasets>=2.0.0->paddlenlp==2.3.1) (1.7.2)\n",
      "Requirement already satisfied: asynctest==0.13.0 in /opt/conda/envs/python35-paddle120-env/lib/python3.7/site-packages (from aiohttp->datasets>=2.0.0->paddlenlp==2.3.1) (0.13.0)\n",
      "Requirement already satisfied: aiosignal>=1.1.2 in /opt/conda/envs/python35-paddle120-env/lib/python3.7/site-packages (from aiohttp->datasets>=2.0.0->paddlenlp==2.3.1) (1.2.0)\n",
      "Requirement already satisfied: attrs>=17.3.0 in /opt/conda/envs/python35-paddle120-env/lib/python3.7/site-packages (from aiohttp->datasets>=2.0.0->paddlenlp==2.3.1) (21.4.0)\n",
      "Requirement already satisfied: charset-normalizer<3.0,>=2.0 in /opt/conda/envs/python35-paddle120-env/lib/python3.7/site-packages (from aiohttp->datasets>=2.0.0->paddlenlp==2.3.1) (2.0.12)\n",
      "Requirement already satisfied: zipp>=0.5 in /opt/conda/envs/python35-paddle120-env/lib/python3.7/site-packages (from importlib-metadata->datasets>=2.0.0->paddlenlp==2.3.1) (3.8.0)\n",
      "Requirement already satisfied: python-dateutil>=2.7.3 in /opt/conda/envs/python35-paddle120-env/lib/python3.7/site-packages (from pandas->datasets>=2.0.0->paddlenlp==2.3.1) (2.8.2)\n",
      "Requirement already satisfied: pytz>=2017.2 in /opt/conda/envs/python35-paddle120-env/lib/python3.7/site-packages (from pandas->datasets>=2.0.0->paddlenlp==2.3.1) (2019.3)\n",
      "Requirement already satisfied: six>=1.5 in /opt/conda/envs/python35-paddle120-env/lib/python3.7/site-packages (from python-dateutil>=2.7.3->pandas->datasets>=2.0.0->paddlenlp==2.3.1) (1.16.0)\n",
      "\u001b[33mWARNING: You are using pip version 22.0.4; however, version 22.1.2 is available.\n",
      "You should consider upgrading via the '/opt/conda/envs/python35-paddle120-env/bin/python -m pip install --upgrade pip' command.\u001b[0m\u001b[33m\n",
      "\u001b[0m"
     ]
    }
   ],
   "source": [
    "# 使用UIE需要更新paddlnlp版本>=2.3.1\n",
    "!pip install paddlenlp==2.3.1"
   ]
  },
  {
   "cell_type": "markdown",
   "metadata": {
    "pycharm": {
     "name": "#%% md\n"
    }
   },
   "source": [
    "# 初赛知识抽取Baseline代码"
   ]
  },
  {
   "cell_type": "markdown",
   "metadata": {
    "pycharm": {
     "name": "#%% md\n"
    }
   },
   "source": [
    "## 1 EDA"
   ]
  },
  {
   "cell_type": "code",
   "execution_count": 2,
   "metadata": {
    "collapsed": false,
    "execution": {
     "iopub.execute_input": "2022-06-15T00:10:50.543473Z",
     "iopub.status.busy": "2022-06-15T00:10:50.543152Z",
     "iopub.status.idle": "2022-06-15T00:10:50.984423Z",
     "shell.execute_reply": "2022-06-15T00:10:50.983802Z",
     "shell.execute_reply.started": "2022-06-15T00:10:50.543443Z"
    },
    "jupyter": {
     "outputs_hidden": false
    },
    "pycharm": {
     "name": "#%%\n"
    },
    "scrolled": true
   },
   "outputs": [
    {
     "name": "stdout",
     "output_type": "stream",
     "text": [
      "(800, 5) (200, 5)\n"
     ]
    }
   ],
   "source": [
    "import json\n",
    "import pandas as pd\n",
    "\n",
    "examples = []\n",
    "with open(\"data/data152363/train.json\",\"r\",encoding=\"utf-8\") as f:\n",
    "    for i in f.readlines():\n",
    "        examples.append(json.loads(i))\n",
    "train = pd.DataFrame(examples)\n",
    "train [\"idlength\"] = [len(i) for i in train [\"id\"]]\n",
    "train [\"slength\"] = [len(i) for i in train [\"sentence\"]]\n",
    "\n",
    "examples = []\n",
    "with open(\"data/data152363/eval.json\",\"r\",encoding=\"utf-8\") as f:\n",
    "    for i in f.readlines():\n",
    "        examples.append(json.loads(i))\n",
    "eval = pd.DataFrame(examples)\n",
    "eval[\"idlength\"] = [len(i) for i in eval[\"id\"]]\n",
    "eval[\"slength\"] = [len(i) for i in eval[\"sentence\"]]\n",
    "print(train.shape,eval.shape)"
   ]
  },
  {
   "cell_type": "code",
   "execution_count": 3,
   "metadata": {
    "collapsed": false,
    "execution": {
     "iopub.execute_input": "2022-06-15T00:10:50.985983Z",
     "iopub.status.busy": "2022-06-15T00:10:50.985527Z",
     "iopub.status.idle": "2022-06-15T00:10:51.278991Z",
     "shell.execute_reply": "2022-06-15T00:10:51.278382Z",
     "shell.execute_reply.started": "2022-06-15T00:10:50.985956Z"
    },
    "jupyter": {
     "outputs_hidden": false
    },
    "pycharm": {
     "name": "#%%\n"
    },
    "scrolled": true
   },
   "outputs": [
    {
     "data": {
      "text/plain": [
       "(<matplotlib.axes._subplots.AxesSubplot at 0x7f53b30a91d0>,\n",
       " <matplotlib.axes._subplots.AxesSubplot at 0x7f53b30a91d0>)"
      ]
     },
     "execution_count": 3,
     "metadata": {},
     "output_type": "execute_result"
    }
   ],
   "source": [
    "# 文本长度分布\n",
    "train[\"slength\"].hist(),eval[\"slength\"].hist()"
   ]
  },
  {
   "cell_type": "markdown",
   "metadata": {
    "pycharm": {
     "name": "#%% md\n"
    }
   },
   "source": [
    "## 2 数据格式处理"
   ]
  },
  {
   "cell_type": "markdown",
   "metadata": {
    "pycharm": {
     "name": "#%% md\n"
    }
   },
   "source": [
    "### 2.1 读取schema"
   ]
  },
  {
   "cell_type": "code",
   "execution_count": 4,
   "metadata": {
    "collapsed": false,
    "execution": {
     "iopub.execute_input": "2022-06-15T00:10:51.280418Z",
     "iopub.status.busy": "2022-06-15T00:10:51.279981Z",
     "iopub.status.idle": "2022-06-15T00:10:51.287017Z",
     "shell.execute_reply": "2022-06-15T00:10:51.286426Z",
     "shell.execute_reply.started": "2022-06-15T00:10:51.280388Z"
    },
    "jupyter": {
     "outputs_hidden": false
    },
    "pycharm": {
     "name": "#%%\n"
    },
    "scrolled": true
   },
   "outputs": [
    {
     "data": {
      "text/plain": [
       "[{'subjtct_type': '遗址文化', 'predicate': '相关文物', 'object_type': '文物藏品'},\n",
       " {'subjtct_type': '遗址文化/单位机构', 'predicate': '所在地', 'object_type': '地点'},\n",
       " {'subjtct_type': '遗址文化/文物藏品/人物', 'predicate': '所属时代', 'object_type': '历史时代'},\n",
       " {'subjtct_type': '文物藏品', 'predicate': '文物尺寸', 'object_type': '尺寸'},\n",
       " {'subjtct_type': '遗址文化/单位机构', 'predicate': '面积大小', 'object_type': '面积'},\n",
       " {'subjtct_type': '遗址文化/文物藏品', 'predicate': '发现时间', 'object_type': '时间'},\n",
       " {'subjtct_type': '文物藏品', 'predicate': '保存于', 'object_type': '单位机构'},\n",
       " {'subjtct_type': '遗址文化', 'predicate': '建设时间', 'object_type': '时间'},\n",
       " {'subjtct_type': '遗址文化', 'predicate': '文保级别', 'object_type': '保护级别'},\n",
       " {'subjtct_type': '遗址文化', 'predicate': '相关建筑', 'object_type': '建筑'},\n",
       " {'subjtct_type': '遗址文化/文物藏品/人物', 'predicate': '相关人物', 'object_type': '人物'},\n",
       " {'subjtct_type': '遗址文化', 'predicate': '相关单位', 'object_type': '单位机构'},\n",
       " {'subjtct_type': '单位机构', 'predicate': '馆藏物品', 'object_type': '文物藏品'},\n",
       " {'subjtct_type': '遗址文化', 'predicate': '文化类型', 'object_type': '文化'},\n",
       " {'subjtct_type': '单位机构', 'predicate': '成立时间', 'object_type': '时间'},\n",
       " {'subjtct_type': '遗址文化', 'predicate': '文化组成', 'object_type': '遗址文化'},\n",
       " {'subjtct_type': '遗址文化/文物藏品', 'predicate': '相关文献', 'object_type': '书籍文献'},\n",
       " {'subjtct_type': '文物藏品', 'predicate': '文物重量', 'object_type': '重量'},\n",
       " {'subjtct_type': '单位机构', 'predicate': '馆长', 'object_type': '人物'}]"
      ]
     },
     "execution_count": 4,
     "metadata": {},
     "output_type": "execute_result"
    }
   ],
   "source": [
    "schema_list = []\n",
    "with open(\"data/data152363/schema.json\",\"r\",encoding=\"utf-8\") as f:\n",
    "    for i in f.readlines():\n",
    "        schema_list.append(json.loads(i))\n",
    "schema_list"
   ]
  },
  {
   "cell_type": "markdown",
   "metadata": {
    "pycharm": {
     "name": "#%% md\n"
    }
   },
   "source": [
    "### 2.2 处理为可输入UIE的数据格式，以json格式保存数据"
   ]
  },
  {
   "cell_type": "code",
   "execution_count": 5,
   "metadata": {
    "collapsed": false,
    "execution": {
     "iopub.execute_input": "2022-06-15T00:10:51.287999Z",
     "iopub.status.busy": "2022-06-15T00:10:51.287833Z",
     "iopub.status.idle": "2022-06-15T00:10:51.297625Z",
     "shell.execute_reply": "2022-06-15T00:10:51.297061Z",
     "shell.execute_reply.started": "2022-06-15T00:10:51.287978Z"
    },
    "jupyter": {
     "outputs_hidden": false
    },
    "pycharm": {
     "name": "#%%\n"
    },
    "scrolled": true
   },
   "outputs": [],
   "source": [
    "def get_uie_data(df):\n",
    "    prompt_datas = []\n",
    "    for idx,rows in df.iterrows():\n",
    "        text = rows[\"sentence\"]\n",
    "        spo_list = rows[\"spos\"]\n",
    "        entitys = []\n",
    "        relations = []\n",
    "        for spo in spo_list:\n",
    "            pso = [(schema[\"subjtct_type\"],schema[\"object_type\"])for schema in schema_list if schema[\"predicate\"] == spo['p']][0]\n",
    "            if spo['s'] not in entitys:\n",
    "                entitys.append([spo['s'],pso[0]])\n",
    "            if spo['o'] not in entitys:\n",
    "                entitys.append([spo['o'],pso[1]])\n",
    "            if spo['p'] not in relations:\n",
    "                relations.append([spo['p'],spo['s'],spo['o']])\n",
    "        prompt_data = {}\n",
    "        prompt_data[\"text\"] = rows[\"sentence\"]\n",
    "        prompt_data[\"entities\"] = []\n",
    "        prompt_data[\"relations\"] = []\n",
    "        id_number = 0\n",
    "        for entity in entitys:\n",
    "            entity_pre = {}\n",
    "            entity_pre['id'] = id_number\n",
    "            entity_pre[\"start_offset\"] = text.index(entity[0])\n",
    "            entity_pre[\"end_offset\"] = text.index(entity[0])+len(entity[0])\n",
    "            entity_pre[\"label\"] = entity[1]\n",
    "            entity_pre[\"name\"] = entity[0]\n",
    "            prompt_data[\"entities\"].append(entity_pre)\n",
    "            id_number += 1\n",
    "\n",
    "        for relation in relations:\n",
    "            relation_pre = {}\n",
    "            from_id = [e['id'] for e in prompt_data[\"entities\"] if e['name']==relation[1]][0]\n",
    "            to_id = [e['id'] for e in prompt_data[\"entities\"] if e['name']==relation[2]][0]\n",
    "            relation_pre[\"from_id\"] = from_id\n",
    "            relation_pre[\"to_id\"] = to_id\n",
    "            relation_pre[\"type\"] = relation[0]\n",
    "            prompt_data[\"relations\"].append(relation_pre)\n",
    "        prompt_datas.append(prompt_data)\n",
    "    return prompt_datas"
   ]
  },
  {
   "cell_type": "code",
   "execution_count": 6,
   "metadata": {
    "collapsed": false,
    "execution": {
     "iopub.execute_input": "2022-06-15T00:10:51.298760Z",
     "iopub.status.busy": "2022-06-15T00:10:51.298397Z",
     "iopub.status.idle": "2022-06-15T00:10:51.418789Z",
     "shell.execute_reply": "2022-06-15T00:10:51.418044Z",
     "shell.execute_reply.started": "2022-06-15T00:10:51.298736Z"
    },
    "jupyter": {
     "outputs_hidden": false
    },
    "pycharm": {
     "name": "#%%\n"
    },
    "scrolled": true
   },
   "outputs": [],
   "source": [
    "data = get_uie_data(train)\n",
    "dev = get_uie_data(eval)"
   ]
  },
  {
   "cell_type": "markdown",
   "metadata": {
    "pycharm": {
     "name": "#%% md\n"
    }
   },
   "source": [
    "### 2.3 数据保存"
   ]
  },
  {
   "cell_type": "code",
   "execution_count": 7,
   "metadata": {
    "collapsed": false,
    "execution": {
     "iopub.execute_input": "2022-06-15T00:10:51.420177Z",
     "iopub.status.busy": "2022-06-15T00:10:51.419752Z",
     "iopub.status.idle": "2022-06-15T00:10:51.451872Z",
     "shell.execute_reply": "2022-06-15T00:10:51.451333Z",
     "shell.execute_reply.started": "2022-06-15T00:10:51.420149Z"
    },
    "jupyter": {
     "outputs_hidden": false
    },
    "pycharm": {
     "name": "#%%\n"
    },
    "scrolled": true,
    "tags": []
   },
   "outputs": [],
   "source": [
    "with open(\"work/data.json\",\"w\",encoding=\"utf-8\") as f:\n",
    "    for i in data:\n",
    "        f.write(json.dumps(i,ensure_ascii=False)+'\\n')\n",
    "\n",
    "with open(\"work/dev.json\",\"w\",encoding=\"utf-8\") as f:\n",
    "    for i in dev:\n",
    "        f.write(json.dumps(i,ensure_ascii=False)+'\\n')"
   ]
  },
  {
   "cell_type": "markdown",
   "metadata": {
    "pycharm": {
     "name": "#%% md\n"
    }
   },
   "source": [
    "## 3 数据切分"
   ]
  },
  {
   "cell_type": "code",
   "execution_count": 8,
   "metadata": {
    "collapsed": false,
    "execution": {
     "iopub.execute_input": "2022-06-15T00:10:51.453156Z",
     "iopub.status.busy": "2022-06-15T00:10:51.452885Z",
     "iopub.status.idle": "2022-06-15T00:11:24.721524Z",
     "shell.execute_reply": "2022-06-15T00:11:24.720832Z",
     "shell.execute_reply.started": "2022-06-15T00:10:51.453132Z"
    },
    "jupyter": {
     "outputs_hidden": false
    },
    "pycharm": {
     "name": "#%%\n"
    },
    "scrolled": true,
    "tags": []
   },
   "outputs": [
    {
     "name": "stdout",
     "output_type": "stream",
     "text": [
      "Converting doccano data...\n",
      "0it [00:00, ?it/s]\n",
      "Adding negative samples for first stage prompt...\n",
      "0it [00:00, ?it/s]\n",
      "Converting doccano data...\n",
      "100%|██████████████████████████████████████| 200/200 [00:00<00:00, 13378.75it/s]\n",
      "Adding negative samples for first stage prompt...\n",
      "100%|█████████████████████████████████████| 200/200 [00:00<00:00, 131792.74it/s]\n",
      "Constructing relation prompts...\n",
      "Adding negative samples for second stage prompt...\n",
      "100%|████████████████████████████████████████| 200/200 [00:01<00:00, 157.38it/s]\n",
      "Converting doccano data...\n",
      "0it [00:00, ?it/s]\n",
      "Adding negative samples for first stage prompt...\n",
      "0it [00:00, ?it/s]\n",
      "\n",
      "Save 0 examples to ./work/split/train.txt.\n",
      "\n",
      "Save 1417 examples to ./work/split/dev.txt.\n",
      "\n",
      "Save 0 examples to ./work/split/test.txt.\n",
      "Finished! It takes 1.32 seconds\n",
      "Converting doccano data...\n",
      "100%|███████████████████████████████████████| 800/800 [00:00<00:00, 3882.55it/s]\n",
      "Adding negative samples for first stage prompt...\n",
      "100%|██████████████████████████████████████| 800/800 [00:00<00:00, 69400.47it/s]\n",
      "Constructing relation prompts...\n",
      "Adding negative samples for second stage prompt...\n",
      "100%|█████████████████████████████████████████| 800/800 [00:27<00:00, 29.45it/s]\n",
      "Converting doccano data...\n",
      "0it [00:00, ?it/s]\n",
      "Adding negative samples for first stage prompt...\n",
      "0it [00:00, ?it/s]\n",
      "Converting doccano data...\n",
      "0it [00:00, ?it/s]\n",
      "Adding negative samples for first stage prompt...\n",
      "0it [00:00, ?it/s]\n",
      "\n",
      "Save 25638 examples to ./work/train.txt.\n",
      "\n",
      "Save 0 examples to ./work/dev.txt.\n",
      "\n",
      "Save 0 examples to ./work/test.txt.\n",
      "Finished! It takes 27.68 seconds\n"
     ]
    },
    {
     "data": {
      "text/plain": [
       "'work/dev.txt'"
      ]
     },
     "execution_count": 8,
     "metadata": {},
     "output_type": "execute_result"
    }
   ],
   "source": [
    "# 通过paddleNLP提供的preprocess划分数据集,\n",
    "# 由于官方给了验证集，splits设置为[1.0 0.0 0.0] 不自行划分验证集\n",
    "# 对不同数据使用preprocess.py进行划分时,会覆盖掉之前的划分数据，分开保存再迁移到同一个文件夹\n",
    "!python preprocess.py --input_file ./work/dev.json --save_dir ./work/split --negative_ratio 5 --splits 0.0 1.0 0.0 --seed 1000\n",
    "!python preprocess.py --input_file ./work/data.json --save_dir ./work --negative_ratio 5 --splits 1.0 0.0 0.0 --seed 1000\n",
    "import os\n",
    "from shutil import copyfile\n",
    "# 创建保存的文件夹\n",
    "os.makedirs(\"work/spli\",exist_ok=True)\n",
    "# 复制验证集\n",
    "copyfile(\"work/split/dev.txt\", \"work/dev.txt\")"
   ]
  },
  {
   "cell_type": "markdown",
   "metadata": {
    "pycharm": {
     "name": "#%% md\n"
    }
   },
   "source": [
    "## 4 微调UIE模型"
   ]
  },
  {
   "cell_type": "code",
   "execution_count": 31,
   "metadata": {
    "collapsed": false,
    "execution": {
     "iopub.execute_input": "2022-06-15T00:34:12.084430Z",
     "iopub.status.busy": "2022-06-15T00:34:12.083490Z",
     "iopub.status.idle": "2022-06-15T00:59:45.053376Z",
     "shell.execute_reply": "2022-06-15T00:59:45.052436Z",
     "shell.execute_reply.started": "2022-06-15T00:34:12.084390Z"
    },
    "jupyter": {
     "outputs_hidden": false
    },
    "pycharm": {
     "name": "#%%\n"
    },
    "scrolled": true,
    "tags": []
   },
   "outputs": [
    {
     "name": "stdout",
     "output_type": "stream",
     "text": [
      "[2022-06-15 08:34:15,102] [    INFO] - Already cached /home/aistudio/.paddlenlp/models/ernie-3.0-base-zh/ernie_3.0_base_zh_vocab.txt\n",
      "[2022-06-15 08:34:15,130] [    INFO] - We are using <class 'paddlenlp.transformers.ernie.modeling.ErnieModel'> to load 'ernie-3.0-base-zh'.\n",
      "[2022-06-15 08:34:15,130] [    INFO] - Already cached /home/aistudio/.paddlenlp/models/ernie-3.0-base-zh/ernie_3.0_base_zh.pdparams\n",
      "W0615 08:34:15.131522  6665 gpu_context.cc:278] Please NOTE: device: 0, GPU Compute Capability: 7.0, Driver API Version: 11.2, Runtime API Version: 10.1\n",
      "W0615 08:34:15.135022  6665 gpu_context.cc:306] device: 0, cuDNN Version: 7.6.\n",
      "[2022-06-15 08:34:20,074] [    INFO] - Weights from pretrained model not used in ErnieModel: ['cls.predictions.transform.weight', 'cls.predictions.layer_norm.weight', 'cls.predictions.transform.bias', 'cls.predictions.layer_norm.bias', 'cls.predictions.decoder_bias']\n",
      "Init from: uie-base/model_state.pdparams\n",
      "Global step count of 1603\n",
      "global step 10 / 1603, epoch: 1, loss: 0.00139, speed: 1.87 step/s\n",
      "global step 20 / 1603, epoch: 1, loss: 0.00158, speed: 1.96 step/s\n",
      "global step 30 / 1603, epoch: 1, loss: 0.00165, speed: 1.95 step/s\n",
      "global step 40 / 1603, epoch: 1, loss: 0.00159, speed: 1.95 step/s\n",
      "global step 50 / 1603, epoch: 1, loss: 0.00164, speed: 1.94 step/s\n",
      "Evaluation precision: 0.88834, recall: 0.39890, F1: 0.55057\n",
      "best F1 performence has been updated: 0.00000 --> 0.55057\n",
      "global step 60 / 1603, epoch: 1, loss: 0.00159, speed: 1.94 step/s\n",
      "global step 70 / 1603, epoch: 1, loss: 0.00164, speed: 1.95 step/s\n",
      "global step 80 / 1603, epoch: 1, loss: 0.00159, speed: 1.94 step/s\n",
      "global step 90 / 1603, epoch: 1, loss: 0.00155, speed: 1.94 step/s\n",
      "global step 100 / 1603, epoch: 1, loss: 0.00152, speed: 1.94 step/s\n",
      "Evaluation precision: 0.86568, recall: 0.61433, F1: 0.71866\n",
      "best F1 performence has been updated: 0.55057 --> 0.71866\n",
      "global step 110 / 1603, epoch: 1, loss: 0.00149, speed: 1.93 step/s\n",
      "global step 120 / 1603, epoch: 1, loss: 0.00146, speed: 1.94 step/s\n",
      "global step 130 / 1603, epoch: 1, loss: 0.00146, speed: 1.94 step/s\n",
      "global step 140 / 1603, epoch: 1, loss: 0.00143, speed: 1.95 step/s\n",
      "global step 150 / 1603, epoch: 1, loss: 0.00140, speed: 1.95 step/s\n",
      "Evaluation precision: 0.87017, recall: 0.65730, F1: 0.74890\n",
      "best F1 performence has been updated: 0.71866 --> 0.74890\n",
      "global step 160 / 1603, epoch: 1, loss: 0.00141, speed: 1.94 step/s\n",
      "global step 170 / 1603, epoch: 1, loss: 0.00140, speed: 1.95 step/s\n",
      "global step 180 / 1603, epoch: 1, loss: 0.00136, speed: 1.94 step/s\n",
      "global step 190 / 1603, epoch: 1, loss: 0.00133, speed: 1.94 step/s\n",
      "global step 200 / 1603, epoch: 1, loss: 0.00130, speed: 1.93 step/s\n",
      "Evaluation precision: 0.86244, recall: 0.70468, F1: 0.77562\n",
      "best F1 performence has been updated: 0.74890 --> 0.77562\n",
      "global step 210 / 1603, epoch: 1, loss: 0.00128, speed: 1.94 step/s\n",
      "global step 220 / 1603, epoch: 1, loss: 0.00126, speed: 1.95 step/s\n",
      "global step 230 / 1603, epoch: 1, loss: 0.00123, speed: 1.94 step/s\n",
      "global step 240 / 1603, epoch: 1, loss: 0.00123, speed: 1.94 step/s\n",
      "global step 250 / 1603, epoch: 1, loss: 0.00123, speed: 1.93 step/s\n",
      "Evaluation precision: 0.84357, recall: 0.71901, F1: 0.77632\n",
      "best F1 performence has been updated: 0.77562 --> 0.77632\n",
      "global step 260 / 1603, epoch: 1, loss: 0.00121, speed: 1.94 step/s\n",
      "global step 270 / 1603, epoch: 1, loss: 0.00120, speed: 1.94 step/s\n",
      "global step 280 / 1603, epoch: 1, loss: 0.00119, speed: 1.93 step/s\n",
      "global step 290 / 1603, epoch: 1, loss: 0.00118, speed: 1.93 step/s\n",
      "global step 300 / 1603, epoch: 1, loss: 0.00116, speed: 1.94 step/s\n",
      "Evaluation precision: 0.86698, recall: 0.70028, F1: 0.77476\n",
      "global step 310 / 1603, epoch: 1, loss: 0.00116, speed: 1.94 step/s\n",
      "global step 320 / 1603, epoch: 1, loss: 0.00115, speed: 1.94 step/s\n",
      "global step 330 / 1603, epoch: 1, loss: 0.00114, speed: 1.94 step/s\n",
      "global step 340 / 1603, epoch: 1, loss: 0.00114, speed: 1.94 step/s\n",
      "global step 350 / 1603, epoch: 1, loss: 0.00115, speed: 1.93 step/s\n",
      "Evaluation precision: 0.87342, recall: 0.72231, F1: 0.79071\n",
      "best F1 performence has been updated: 0.77632 --> 0.79071\n",
      "global step 360 / 1603, epoch: 1, loss: 0.00112, speed: 1.94 step/s\n",
      "global step 370 / 1603, epoch: 1, loss: 0.00112, speed: 1.93 step/s\n",
      "global step 380 / 1603, epoch: 1, loss: 0.00110, speed: 1.94 step/s\n",
      "global step 390 / 1603, epoch: 1, loss: 0.00109, speed: 1.92 step/s\n",
      "global step 400 / 1603, epoch: 1, loss: 0.00108, speed: 1.94 step/s\n",
      "Evaluation precision: 0.86077, recall: 0.72893, F1: 0.78938\n",
      "global step 410 / 1603, epoch: 1, loss: 0.00108, speed: 1.93 step/s\n",
      "global step 420 / 1603, epoch: 1, loss: 0.00108, speed: 1.93 step/s\n",
      "global step 430 / 1603, epoch: 1, loss: 0.00107, speed: 1.94 step/s\n",
      "global step 440 / 1603, epoch: 1, loss: 0.00107, speed: 1.93 step/s\n",
      "global step 450 / 1603, epoch: 1, loss: 0.00107, speed: 1.93 step/s\n",
      "Evaluation precision: 0.86504, recall: 0.72397, F1: 0.78824\n",
      "global step 460 / 1603, epoch: 1, loss: 0.00107, speed: 1.93 step/s\n",
      "global step 470 / 1603, epoch: 1, loss: 0.00107, speed: 1.93 step/s\n",
      "global step 480 / 1603, epoch: 1, loss: 0.00106, speed: 1.92 step/s\n",
      "global step 490 / 1603, epoch: 1, loss: 0.00106, speed: 1.92 step/s\n",
      "global step 500 / 1603, epoch: 1, loss: 0.00105, speed: 1.93 step/s\n",
      "Evaluation precision: 0.86813, recall: 0.76529, F1: 0.81347\n",
      "best F1 performence has been updated: 0.79071 --> 0.81347\n",
      "global step 510 / 1603, epoch: 1, loss: 0.00104, speed: 1.93 step/s\n",
      "global step 520 / 1603, epoch: 1, loss: 0.00104, speed: 1.93 step/s\n",
      "global step 530 / 1603, epoch: 1, loss: 0.00104, speed: 1.93 step/s\n",
      "global step 540 / 1603, epoch: 1, loss: 0.00104, speed: 1.92 step/s\n",
      "global step 550 / 1603, epoch: 1, loss: 0.00103, speed: 1.93 step/s\n",
      "Evaluation precision: 0.86131, recall: 0.79725, F1: 0.82804\n",
      "best F1 performence has been updated: 0.81347 --> 0.82804\n",
      "global step 560 / 1603, epoch: 1, loss: 0.00103, speed: 1.93 step/s\n",
      "global step 570 / 1603, epoch: 1, loss: 0.00103, speed: 1.93 step/s\n",
      "global step 580 / 1603, epoch: 1, loss: 0.00102, speed: 1.93 step/s\n",
      "global step 590 / 1603, epoch: 1, loss: 0.00102, speed: 1.93 step/s\n",
      "global step 600 / 1603, epoch: 1, loss: 0.00102, speed: 1.93 step/s\n",
      "Evaluation precision: 0.85059, recall: 0.79669, F1: 0.82276\n",
      "global step 610 / 1603, epoch: 1, loss: 0.00102, speed: 1.93 step/s\n",
      "global step 620 / 1603, epoch: 1, loss: 0.00102, speed: 1.93 step/s\n",
      "global step 630 / 1603, epoch: 1, loss: 0.00102, speed: 1.93 step/s\n",
      "global step 640 / 1603, epoch: 1, loss: 0.00101, speed: 1.93 step/s\n",
      "global step 650 / 1603, epoch: 1, loss: 0.00101, speed: 1.92 step/s\n",
      "Evaluation precision: 0.85065, recall: 0.76253, F1: 0.80418\n",
      "global step 660 / 1603, epoch: 1, loss: 0.00101, speed: 1.92 step/s\n",
      "global step 670 / 1603, epoch: 1, loss: 0.00100, speed: 1.93 step/s\n",
      "global step 680 / 1603, epoch: 1, loss: 0.00100, speed: 1.93 step/s\n",
      "global step 690 / 1603, epoch: 1, loss: 0.00100, speed: 1.93 step/s\n",
      "global step 700 / 1603, epoch: 1, loss: 0.00099, speed: 1.92 step/s\n",
      "Evaluation precision: 0.86249, recall: 0.73609, F1: 0.79429\n",
      "global step 710 / 1603, epoch: 1, loss: 0.00100, speed: 1.93 step/s\n",
      "global step 720 / 1603, epoch: 1, loss: 0.00100, speed: 1.93 step/s\n",
      "global step 730 / 1603, epoch: 1, loss: 0.00100, speed: 1.93 step/s\n",
      "global step 740 / 1603, epoch: 1, loss: 0.00099, speed: 1.92 step/s\n",
      "global step 750 / 1603, epoch: 1, loss: 0.00099, speed: 1.92 step/s\n",
      "Evaluation precision: 0.86071, recall: 0.75923, F1: 0.80679\n",
      "global step 760 / 1603, epoch: 1, loss: 0.00099, speed: 1.93 step/s\n",
      "global step 770 / 1603, epoch: 1, loss: 0.00099, speed: 1.93 step/s\n",
      "global step 780 / 1603, epoch: 1, loss: 0.00099, speed: 1.93 step/s\n",
      "global step 790 / 1603, epoch: 1, loss: 0.00099, speed: 1.92 step/s\n",
      "global step 800 / 1603, epoch: 1, loss: 0.00098, speed: 1.91 step/s\n",
      "Evaluation precision: 0.85403, recall: 0.77686, F1: 0.81362\n",
      "global step 810 / 1603, epoch: 1, loss: 0.00098, speed: 1.93 step/s\n",
      "global step 820 / 1603, epoch: 1, loss: 0.00098, speed: 1.93 step/s\n",
      "global step 830 / 1603, epoch: 1, loss: 0.00097, speed: 1.93 step/s\n",
      "global step 840 / 1603, epoch: 1, loss: 0.00097, speed: 1.93 step/s\n",
      "global step 850 / 1603, epoch: 1, loss: 0.00097, speed: 1.92 step/s\n",
      "Evaluation precision: 0.85423, recall: 0.78457, F1: 0.81792\n",
      "global step 860 / 1603, epoch: 1, loss: 0.00097, speed: 1.93 step/s\n",
      "global step 870 / 1603, epoch: 1, loss: 0.00096, speed: 1.93 step/s\n",
      "global step 880 / 1603, epoch: 1, loss: 0.00096, speed: 1.93 step/s\n",
      "global step 890 / 1603, epoch: 1, loss: 0.00096, speed: 1.93 step/s\n",
      "global step 900 / 1603, epoch: 1, loss: 0.00095, speed: 1.93 step/s\n",
      "Evaluation precision: 0.85457, recall: 0.80937, F1: 0.83135\n",
      "best F1 performence has been updated: 0.82804 --> 0.83135\n",
      "global step 910 / 1603, epoch: 1, loss: 0.00095, speed: 1.93 step/s\n",
      "global step 920 / 1603, epoch: 1, loss: 0.00095, speed: 1.92 step/s\n",
      "global step 930 / 1603, epoch: 1, loss: 0.00095, speed: 1.93 step/s\n",
      "global step 940 / 1603, epoch: 1, loss: 0.00095, speed: 1.93 step/s\n",
      "global step 950 / 1603, epoch: 1, loss: 0.00094, speed: 1.93 step/s\n",
      "Evaluation precision: 0.86220, recall: 0.77906, F1: 0.81852\n",
      "global step 960 / 1603, epoch: 1, loss: 0.00094, speed: 1.93 step/s\n",
      "global step 970 / 1603, epoch: 1, loss: 0.00094, speed: 1.94 step/s\n",
      "global step 980 / 1603, epoch: 1, loss: 0.00094, speed: 1.91 step/s\n",
      "global step 990 / 1603, epoch: 1, loss: 0.00094, speed: 1.93 step/s\n",
      "global step 1000 / 1603, epoch: 1, loss: 0.00094, speed: 1.93 step/s\n",
      "Evaluation precision: 0.85505, recall: 0.80275, F1: 0.82808\n",
      "global step 1010 / 1603, epoch: 1, loss: 0.00093, speed: 1.93 step/s\n",
      "global step 1020 / 1603, epoch: 1, loss: 0.00093, speed: 1.91 step/s\n",
      "global step 1030 / 1603, epoch: 1, loss: 0.00093, speed: 1.92 step/s\n",
      "global step 1040 / 1603, epoch: 1, loss: 0.00092, speed: 1.93 step/s\n",
      "global step 1050 / 1603, epoch: 1, loss: 0.00092, speed: 1.93 step/s\n",
      "Evaluation precision: 0.88702, recall: 0.78292, F1: 0.83172\n",
      "best F1 performence has been updated: 0.83135 --> 0.83172\n",
      "global step 1060 / 1603, epoch: 1, loss: 0.00092, speed: 1.93 step/s\n",
      "global step 1070 / 1603, epoch: 1, loss: 0.00092, speed: 1.93 step/s\n",
      "global step 1080 / 1603, epoch: 1, loss: 0.00092, speed: 1.93 step/s\n",
      "global step 1090 / 1603, epoch: 1, loss: 0.00092, speed: 1.93 step/s\n",
      "global step 1100 / 1603, epoch: 1, loss: 0.00092, speed: 1.93 step/s\n",
      "Evaluation precision: 0.86413, recall: 0.78843, F1: 0.82455\n",
      "global step 1110 / 1603, epoch: 1, loss: 0.00092, speed: 1.93 step/s\n",
      "global step 1120 / 1603, epoch: 1, loss: 0.00091, speed: 1.92 step/s\n",
      "global step 1130 / 1603, epoch: 1, loss: 0.00091, speed: 1.93 step/s\n",
      "global step 1140 / 1603, epoch: 1, loss: 0.00091, speed: 1.93 step/s\n",
      "global step 1150 / 1603, epoch: 1, loss: 0.00091, speed: 1.93 step/s\n",
      "Evaluation precision: 0.84476, recall: 0.79449, F1: 0.81885\n",
      "global step 1160 / 1603, epoch: 1, loss: 0.00091, speed: 1.93 step/s\n",
      "global step 1170 / 1603, epoch: 1, loss: 0.00091, speed: 1.93 step/s\n",
      "global step 1180 / 1603, epoch: 1, loss: 0.00091, speed: 1.92 step/s\n",
      "global step 1190 / 1603, epoch: 1, loss: 0.00090, speed: 1.93 step/s\n",
      "global step 1200 / 1603, epoch: 1, loss: 0.00090, speed: 1.92 step/s\n",
      "Evaluation precision: 0.87235, recall: 0.77190, F1: 0.81906\n",
      "global step 1210 / 1603, epoch: 1, loss: 0.00090, speed: 1.93 step/s\n",
      "global step 1220 / 1603, epoch: 1, loss: 0.00090, speed: 1.93 step/s\n",
      "global step 1230 / 1603, epoch: 1, loss: 0.00090, speed: 1.93 step/s\n",
      "global step 1240 / 1603, epoch: 1, loss: 0.00090, speed: 1.92 step/s\n",
      "global step 1250 / 1603, epoch: 1, loss: 0.00089, speed: 1.93 step/s\n",
      "Evaluation precision: 0.87307, recall: 0.78072, F1: 0.82432\n",
      "global step 1260 / 1603, epoch: 1, loss: 0.00090, speed: 1.94 step/s\n",
      "global step 1270 / 1603, epoch: 1, loss: 0.00090, speed: 1.92 step/s\n",
      "global step 1280 / 1603, epoch: 1, loss: 0.00090, speed: 1.93 step/s\n",
      "global step 1290 / 1603, epoch: 1, loss: 0.00090, speed: 1.93 step/s\n",
      "global step 1300 / 1603, epoch: 1, loss: 0.00090, speed: 1.93 step/s\n",
      "Evaluation precision: 0.84771, recall: 0.80661, F1: 0.82665\n",
      "global step 1310 / 1603, epoch: 1, loss: 0.00090, speed: 1.92 step/s\n",
      "global step 1320 / 1603, epoch: 1, loss: 0.00090, speed: 1.93 step/s\n",
      "global step 1330 / 1603, epoch: 1, loss: 0.00089, speed: 1.93 step/s\n",
      "global step 1340 / 1603, epoch: 1, loss: 0.00089, speed: 1.92 step/s\n",
      "global step 1350 / 1603, epoch: 1, loss: 0.00089, speed: 1.93 step/s\n",
      "Evaluation precision: 0.86825, recall: 0.80606, F1: 0.83600\n",
      "best F1 performence has been updated: 0.83172 --> 0.83600\n",
      "global step 1360 / 1603, epoch: 1, loss: 0.00089, speed: 1.94 step/s\n",
      "global step 1370 / 1603, epoch: 1, loss: 0.00089, speed: 1.93 step/s\n",
      "global step 1380 / 1603, epoch: 1, loss: 0.00089, speed: 1.93 step/s\n",
      "global step 1390 / 1603, epoch: 1, loss: 0.00088, speed: 1.93 step/s\n",
      "global step 1400 / 1603, epoch: 1, loss: 0.00089, speed: 1.93 step/s\n",
      "Evaluation precision: 0.85938, recall: 0.81818, F1: 0.83827\n",
      "best F1 performence has been updated: 0.83600 --> 0.83827\n",
      "global step 1410 / 1603, epoch: 1, loss: 0.00088, speed: 1.94 step/s\n",
      "global step 1420 / 1603, epoch: 1, loss: 0.00088, speed: 1.94 step/s\n",
      "global step 1430 / 1603, epoch: 1, loss: 0.00088, speed: 1.94 step/s\n",
      "global step 1440 / 1603, epoch: 1, loss: 0.00088, speed: 1.94 step/s\n",
      "global step 1450 / 1603, epoch: 1, loss: 0.00088, speed: 1.94 step/s\n",
      "Evaluation precision: 0.86316, recall: 0.81322, F1: 0.83745\n",
      "global step 1460 / 1603, epoch: 1, loss: 0.00088, speed: 1.93 step/s\n",
      "global step 1470 / 1603, epoch: 1, loss: 0.00088, speed: 1.94 step/s\n",
      "global step 1480 / 1603, epoch: 1, loss: 0.00087, speed: 1.93 step/s\n",
      "global step 1490 / 1603, epoch: 1, loss: 0.00087, speed: 1.94 step/s\n",
      "global step 1500 / 1603, epoch: 1, loss: 0.00087, speed: 1.94 step/s\n",
      "Evaluation precision: 0.85740, recall: 0.80165, F1: 0.82859\n",
      "global step 1510 / 1603, epoch: 1, loss: 0.00087, speed: 1.93 step/s\n",
      "global step 1520 / 1603, epoch: 1, loss: 0.00087, speed: 1.93 step/s\n",
      "global step 1530 / 1603, epoch: 1, loss: 0.00087, speed: 1.93 step/s\n",
      "global step 1540 / 1603, epoch: 1, loss: 0.00087, speed: 1.93 step/s\n",
      "global step 1550 / 1603, epoch: 1, loss: 0.00087, speed: 1.93 step/s\n",
      "Evaluation precision: 0.87438, recall: 0.77851, F1: 0.82367\n",
      "global step 1560 / 1603, epoch: 1, loss: 0.00086, speed: 1.94 step/s\n",
      "global step 1570 / 1603, epoch: 1, loss: 0.00086, speed: 1.94 step/s\n",
      "global step 1580 / 1603, epoch: 1, loss: 0.00086, speed: 1.94 step/s\n",
      "global step 1590 / 1603, epoch: 1, loss: 0.00086, speed: 1.91 step/s\n",
      "global step 1600 / 1603, epoch: 1, loss: 0.00086, speed: 1.95 step/s\n",
      "Evaluation precision: 0.86474, recall: 0.80661, F1: 0.83466\n"
     ]
    }
   ],
   "source": [
    "# 可以根据GPU显存调整合适的batch_size\n",
    "# epoch仅设置了1轮，可能存在尚未完全拟合的情况，可以尝更多轮次的训练，官方默认的微调轮次是50轮\n",
    "# cpu 运行请修改--model uie-tiny\n",
    "# 微调显示的F1值分数和比赛的F1值区别\n",
    "! python finetune.py --train_path ./work/train.txt --dev_path ./work/dev.txt --save_dir ./checkpoint --model uie-base --learning_rate 1e-5 --batch_size 16 --max_seq_len 512 --num_epochs 1 --seed 1000 --logging_steps 10 --valid_steps 50"
   ]
  },
  {
   "cell_type": "markdown",
   "metadata": {
    "pycharm": {
     "name": "#%% md\n"
    }
   },
   "source": [
    "## 5 预测效果"
   ]
  },
  {
   "cell_type": "markdown",
   "metadata": {
    "pycharm": {
     "name": "#%% md\n"
    }
   },
   "source": [
    "### 5.1 简单测试"
   ]
  },
  {
   "cell_type": "code",
   "execution_count": 38,
   "metadata": {
    "collapsed": false,
    "execution": {
     "iopub.execute_input": "2022-06-15T01:01:10.384334Z",
     "iopub.status.busy": "2022-06-15T01:01:10.384037Z",
     "iopub.status.idle": "2022-06-15T01:01:10.390740Z",
     "shell.execute_reply": "2022-06-15T01:01:10.390258Z",
     "shell.execute_reply.started": "2022-06-15T01:01:10.384309Z"
    },
    "jupyter": {
     "outputs_hidden": false
    },
    "pycharm": {
     "name": "#%%\n"
    },
    "scrolled": true,
    "tags": []
   },
   "outputs": [
    {
     "data": {
      "text/plain": [
       "{'相关文物': ['遗址文化', '文物藏品'],\n",
       " '所在地': ['遗址文化/单位机构', '地点'],\n",
       " '所属时代': ['遗址文化/文物藏品/人物', '历史时代'],\n",
       " '文物尺寸': ['文物藏品', '尺寸'],\n",
       " '面积大小': ['遗址文化/单位机构', '面积'],\n",
       " '发现时间': ['遗址文化/文物藏品', '时间'],\n",
       " '保存于': ['文物藏品', '单位机构'],\n",
       " '建设时间': ['遗址文化', '时间'],\n",
       " '文保级别': ['遗址文化', '保护级别'],\n",
       " '相关建筑': ['遗址文化', '建筑'],\n",
       " '相关人物': ['遗址文化/文物藏品/人物', '人物'],\n",
       " '相关单位': ['遗址文化', '单位机构'],\n",
       " '馆藏物品': ['单位机构', '文物藏品'],\n",
       " '文化类型': ['遗址文化', '文化'],\n",
       " '成立时间': ['单位机构', '时间'],\n",
       " '文化组成': ['遗址文化', '遗址文化'],\n",
       " '相关文献': ['遗址文化/文物藏品', '书籍文献'],\n",
       " '文物重量': ['文物藏品', '重量'],\n",
       " '馆长': ['单位机构', '人物']}"
      ]
     },
     "execution_count": 38,
     "metadata": {},
     "output_type": "execute_result"
    }
   ],
   "source": [
    "# 构造prompt模板\n",
    "schema_list = []\n",
    "with open(\"data/data152363/schema.json\",\"r\",encoding=\"utf-8\") as f:\n",
    "    for i in f.readlines():\n",
    "        schema_list.append(json.loads(i))\n",
    "schema = {i[\"predicate\"]:[i['subjtct_type'],i['object_type']] for i in schema_list}\n",
    "schema"
   ]
  },
  {
   "cell_type": "code",
   "execution_count": 39,
   "metadata": {
    "collapsed": false,
    "execution": {
     "iopub.execute_input": "2022-06-15T01:01:19.580305Z",
     "iopub.status.busy": "2022-06-15T01:01:19.579554Z",
     "iopub.status.idle": "2022-06-15T01:01:33.860473Z",
     "shell.execute_reply": "2022-06-15T01:01:33.859607Z",
     "shell.execute_reply.started": "2022-06-15T01:01:19.580254Z"
    },
    "jupyter": {
     "outputs_hidden": false
    },
    "pycharm": {
     "name": "#%%\n"
    },
    "scrolled": true,
    "tags": []
   },
   "outputs": [
    {
     "name": "stderr",
     "output_type": "stream",
     "text": [
      "[2022-06-15 09:01:19,582] [    INFO] - Downloading model_config.json from https://bj.bcebos.com/paddlenlp/taskflow/information_extraction/uie_base/model_config.json\n",
      "100%|██████████| 377/377 [00:00<00:00, 195kB/s]\n",
      "[2022-06-15 09:01:19,653] [    INFO] - We are using <class 'paddlenlp.transformers.ernie.tokenizer.ErnieTokenizer'> to load 'ernie-3.0-base-zh'.\n",
      "[2022-06-15 09:01:19,655] [    INFO] - Already cached /home/aistudio/.paddlenlp/models/ernie-3.0-base-zh/ernie_3.0_base_zh_vocab.txt\n",
      "[2022-06-15 09:01:22,160] [    INFO] - Converting to the inference model cost a little time.\n",
      "[2022-06-15 09:01:32,816] [    INFO] - The inference model save in the path:./checkpoint/model_best/static/inference\n"
     ]
    }
   ],
   "source": [
    "from paddlenlp import Taskflow\n",
    "from tqdm import tqdm\n",
    "# 创建和读取模型\n",
    "few_ie = Taskflow('information_extraction', schema=schema, task_path='./checkpoint/model_best')"
   ]
  },
  {
   "cell_type": "code",
   "execution_count": 40,
   "metadata": {
    "collapsed": false,
    "execution": {
     "iopub.execute_input": "2022-06-15T01:01:37.871666Z",
     "iopub.status.busy": "2022-06-15T01:01:37.870899Z",
     "iopub.status.idle": "2022-06-15T01:01:39.685834Z",
     "shell.execute_reply": "2022-06-15T01:01:39.685176Z",
     "shell.execute_reply.started": "2022-06-15T01:01:37.871621Z"
    },
    "jupyter": {
     "outputs_hidden": false
    },
    "pycharm": {
     "name": "#%%\n"
    },
    "scrolled": true,
    "tags": []
   },
   "outputs": [
    {
     "name": "stdout",
     "output_type": "stream",
     "text": [
      "===========================================================================\n",
      "原文: 渣津龙岗商周遗址渣津龙岗坪商周遗址位于渣津镇东郊河对岸台地上（水车村）。据许智范撰写的《江西考古资料汇编·修水发现二处古文化遗址》称：龙岗坪商周遗址，长200米，宽100米，文化堆积1米。\n",
      "真实标签:\n",
      "[0] 渣津龙岗商周遗址-所在地-渣津镇东郊河对岸台地上（水车村）\n",
      "[1] 渣津龙岗商周遗址-相关人物-许智范\n",
      "[2] 渣津龙岗商周遗址-相关文献-《江西考古资料汇编·修水发现二处古文化遗址》\n",
      "预测标签:\n",
      "0 渣津龙岗商周遗址-相关人物-许智范\n",
      "1 渣津龙岗商周遗址-相关文献-《江西考古资料汇编·修水发现二处古文化遗址》\n",
      "===========================================================================\n",
      "原文: 湖南银矿遗址位于衢江区湖南镇湖南村项家村对面山前峦中。据《嘉庆一统志》载：“南山银矿，所出银矿，唐元和四年（809年）废，五代吴越钱氏复开仍闭”。南山即今衢州市衢江区湖南镇，该遗址2011年1月公布为省级文物保护单位。\n",
      "真实标签:\n",
      "[0] 湖南银矿遗址-所在地-衢江区\n",
      "[1] 湖南银矿遗址-相关文献-《嘉庆一统志》\n",
      "[2] 湖南银矿遗址-文保级别-省级文物保护单位\n",
      "预测标签:\n",
      "0 湖南银矿遗址-所在地-衢江区\n",
      "1 湖南银矿遗址-所属时代-五代\n",
      "2 湖南银矿遗址-文保级别-省级文物保护单位\n",
      "3 湖南银矿遗址-相关文献-《嘉庆一统志》\n",
      "===========================================================================\n",
      "原文: 唐代舟形双足陶砚此藏品为唐代文物。线条流畅，生坑美造型。汉代刘熙写的《释名》中解释：“砚者研也，可研墨使之濡也”。有石砚、铜砚、陶砚、瓦砚、铁砚等砚台。现收藏于周口华威民俗文化博物苑。\n",
      "真实标签:\n",
      "[0] 唐代舟形双足陶砚-所属时代-唐代\n",
      "[1] 唐代舟形双足陶砚-保存于-周口华威民俗文化博物苑\n",
      "[2] 唐代舟形双足陶砚-相关文献-《释名》\n",
      "预测标签:\n",
      "0 唐代舟形双足陶砚-相关文物-唐代舟形双足陶砚\n",
      "1 唐代舟形双足陶砚-所属时代-唐代\n",
      "2 唐代舟形双足陶砚-保存于-周口华威民俗文化博物苑\n",
      "3 唐代舟形双足陶砚-相关人物-刘熙\n",
      "5 周口华威民俗文化博物苑-馆藏物品-唐代舟形双足陶砚\n",
      "6 唐代舟形双足陶砚-相关文献-《释名》\n",
      "===========================================================================\n",
      "原文: 超峰晓月系自然景观，位于县城东南25公里的超山峰顶。清光绪八年《平遥县志》记述：“峰顶嶙赠，月上如昼。”至今往观，仍名不虚传。\n",
      "真实标签:\n",
      "[0] 超峰晓月系自然景观-所属时代-清光绪八年\n",
      "[1] 超峰晓月系自然景观-相关文献-《平遥县志》\n",
      "预测标签:\n",
      "0 超峰晓月-所在地-超山峰\n"
     ]
    }
   ],
   "source": [
    "for idx,row in eval.iterrows():\n",
    "    if idx > 3:\n",
    "        break\n",
    "    print(\"===\"*25)\n",
    "    print(\"原文:\",row['sentence'])\n",
    "\n",
    "    print(\"真实标签:\")\n",
    "    for idx,spo in enumerate(row['spos']):\n",
    "        print(\"[{}] {}-{}-{}\".format(idx,spo['s'],spo['p'],spo['o']))\n",
    "\n",
    "    print(\"预测标签:\")\n",
    "    for pred in few_ie(row['sentence']):\n",
    "        for idx,(spok,spov) in enumerate(pred.items()):\n",
    "            if \"relations\" in spov[0].keys():\n",
    "                p = spok\n",
    "                o = spov[0]['text']\n",
    "                s = spov[0]['relations'][list(spov[0]['relations'].keys())[0]][0]['text']\n",
    "                print(\"{} {}-{}-{}\".format(idx,s,p,o))"
   ]
  },
  {
   "cell_type": "markdown",
   "metadata": {
    "pycharm": {
     "name": "#%% md\n"
    }
   },
   "source": [
    "### 5.2 计算F1值"
   ]
  },
  {
   "cell_type": "code",
   "execution_count": 41,
   "metadata": {
    "collapsed": false,
    "execution": {
     "iopub.execute_input": "2022-06-15T01:01:59.085931Z",
     "iopub.status.busy": "2022-06-15T01:01:59.085194Z",
     "iopub.status.idle": "2022-06-15T01:03:24.397292Z",
     "shell.execute_reply": "2022-06-15T01:03:24.396526Z",
     "shell.execute_reply.started": "2022-06-15T01:01:59.085880Z"
    },
    "jupyter": {
     "outputs_hidden": false
    },
    "pycharm": {
     "name": "#%%\n"
    },
    "scrolled": true,
    "tags": []
   },
   "outputs": [
    {
     "name": "stderr",
     "output_type": "stream",
     "text": [
      "[2022-06-15 09:01:59,088] [    INFO] - We are using <class 'paddlenlp.transformers.ernie.tokenizer.ErnieTokenizer'> to load 'ernie-3.0-base-zh'.\n",
      "[2022-06-15 09:01:59,090] [    INFO] - Already cached /home/aistudio/.paddlenlp/models/ernie-3.0-base-zh/ernie_3.0_base_zh_vocab.txt\n"
     ]
    }
   ],
   "source": [
    "# 设置batch_size大小，提升推理速度\n",
    "few_ie = Taskflow('information_extraction', schema=schema, task_path='./checkpoint/model_best', batch_size=16)\n",
    "res = [text for text in eval['sentence']]\n",
    "ids = [i for i in eval['id']]\n",
    "results = few_ie(res)"
   ]
  },
  {
   "cell_type": "code",
   "execution_count": 42,
   "metadata": {
    "collapsed": false,
    "execution": {
     "iopub.execute_input": "2022-06-15T01:03:24.420572Z",
     "iopub.status.busy": "2022-06-15T01:03:24.420096Z",
     "iopub.status.idle": "2022-06-15T01:03:24.452152Z",
     "shell.execute_reply": "2022-06-15T01:03:24.451614Z",
     "shell.execute_reply.started": "2022-06-15T01:03:24.420542Z"
    },
    "jupyter": {
     "outputs_hidden": false
    },
    "pycharm": {
     "name": "#%%\n"
    },
    "scrolled": true,
    "tags": []
   },
   "outputs": [
    {
     "name": "stderr",
     "output_type": "stream",
     "text": [
      "100%|██████████| 200/200 [00:00<00:00, 61799.09it/s]\n",
      "200it [00:00, 13944.76it/s]\n"
     ]
    },
    {
     "data": {
      "text/plain": [
       "(644, 742)"
      ]
     },
     "execution_count": 42,
     "metadata": {},
     "output_type": "execute_result"
    }
   ],
   "source": [
    "# 测试集所有句子中预测出的SPO个数\n",
    "pred_spo = []\n",
    "for pred in tqdm(results):\n",
    "    for idx,(spok,spov) in enumerate(pred.items()):\n",
    "        if \"relations\" in spov[0].keys():\n",
    "            p = spok\n",
    "            o = spov[0]['text']\n",
    "            s = spov[0]['relations'][list(spov[0]['relations'].keys())[0]][0]['text']\n",
    "            pred_spo.append((s,p,o))\n",
    "\n",
    "# 测试集所有句子中人工标注的SPO个数\n",
    "real_spo = []\n",
    "for _,row in tqdm(eval.iterrows()):\n",
    "    for spo in row['spos']:\n",
    "        real_spo.append((spo['s'],spo['p'],spo['o']))\n",
    "\n",
    "len(pred_spo),len(real_spo)"
   ]
  },
  {
   "cell_type": "code",
   "execution_count": 78,
   "metadata": {
    "collapsed": false,
    "execution": {
     "iopub.execute_input": "2022-06-15T02:00:38.610896Z",
     "iopub.status.busy": "2022-06-15T02:00:38.609978Z",
     "iopub.status.idle": "2022-06-15T02:00:38.622032Z",
     "shell.execute_reply": "2022-06-15T02:00:38.621460Z",
     "shell.execute_reply.started": "2022-06-15T02:00:38.610854Z"
    },
    "jupyter": {
     "outputs_hidden": false
    },
    "pycharm": {
     "name": "#%%\n"
    },
    "scrolled": true,
    "tags": []
   },
   "outputs": [
    {
     "name": "stdout",
     "output_type": "stream",
     "text": [
      "整体SPO抽取得分:\n",
      "P = 297 / 644 = 0.46118\n",
      "R = 297 / 721 = 0.41193\n",
      "F = 0.43516\n"
     ]
    }
   ],
   "source": [
    "# 微调显示的F1值分数和比赛的F1值区别,下面计算比赛的spo分数\n",
    "# P = 测试集所有句子中预测正确的SPO个数 / 测试集所有句子中预测出的SPO个数\n",
    "# R = 测试集所有句子中预测正确的SPO个数 / 测试集所有句子中人工标注的SPO个数\n",
    "# F = (2 * P * R) / (P + R)\n",
    "P = len(set(pred_spo) & set(real_spo)) / len(set(pred_spo))\n",
    "R = len(set(pred_spo) & set(real_spo)) / len(set(real_spo))\n",
    "F = (2 * P * R) / (P + R)\n",
    "print(\"整体SPO抽取得分:\")\n",
    "print(\"P = %d / %d = %.5f\" % (len(set(pred_spo) & set(real_spo)) , len(set(pred_spo)), P))\n",
    "print(\"R = %d / %d = %.5f\" % (len(set(pred_spo) & set(real_spo)) , len(set(real_spo)), R))\n",
    "print(\"F = %.5f\" % F )"
   ]
  },
  {
   "cell_type": "code",
   "execution_count": 92,
   "metadata": {
    "execution": {
     "iopub.execute_input": "2022-06-15T02:05:47.315630Z",
     "iopub.status.busy": "2022-06-15T02:05:47.314911Z",
     "iopub.status.idle": "2022-06-15T02:05:47.348303Z",
     "shell.execute_reply": "2022-06-15T02:05:47.347679Z",
     "shell.execute_reply.started": "2022-06-15T02:05:47.315592Z"
    },
    "scrolled": true,
    "tags": []
   },
   "outputs": [
    {
     "name": "stdout",
     "output_type": "stream",
     "text": [
      "   spo关系类别 Precision  Recall      F1 support\n",
      "0     相关文物   0.46118  0.1739  0.2526      23\n",
      "1      所在地   0.46118  0.4375   0.449      48\n",
      "2     所属时代   0.46118  0.7368  0.5673     133\n",
      "3     文物尺寸   0.46118  0.1033  0.1688     242\n",
      "4     面积大小   0.46118  0.8182  0.5899      11\n",
      "5     发现时间   0.46118  0.0667  0.1165      30\n",
      "6      保存于   0.46118  0.8468  0.5971     124\n",
      "7     建设时间   0.46118       0       0       0\n",
      "8     文保级别   0.46118     0.5  0.4798      10\n",
      "9     相关建筑   0.46118       0       0       2\n",
      "10    相关人物   0.46118  0.3077  0.3691      13\n",
      "11    相关单位   0.46118  0.4667  0.4639      15\n",
      "12    馆藏物品   0.46118  0.1429  0.2182      35\n",
      "13    文化类型   0.46118     0.1  0.1644      10\n",
      "14    成立时间   0.46118  0.6364  0.5348      11\n",
      "15    文化组成   0.46118       0       0       4\n",
      "16    相关文献   0.46118    0.75  0.5712       4\n",
      "17    文物重量   0.46118       0       0       3\n",
      "18      馆长   0.46118  0.3333  0.3869       3\n"
     ]
    }
   ],
   "source": [
    "classification_report = pd.DataFrame([],columns=[\"spo关系类别\",'Precision','Recall','F1','support'])\n",
    "for idx,(k,v)  in enumerate({i:[] for i in schema.keys()}.items()):\n",
    "    pre_pred_spo = [i for i in pred_spo if i[1]==k]\n",
    "    pre_real_spo = [i for i in real_spo if i[1]==k]\n",
    "    p = round(len(set(pre_pred_spo) & set(pre_real_spo)) / len(set(pred_spo)),4) if len(set(pre_real_spo))!=0 else 0.0\n",
    "    R = round(len(set(pre_pred_spo) & set(pre_real_spo)) / len(set(pre_real_spo)),4) if len(set(pre_real_spo))!=0 else 0.0 \n",
    "    F = round((2 * P * R) / (P + R),4) if (P + R)!=0 else 0.0\n",
    "    S = len(set(pre_real_spo))\n",
    "    classification_report.loc[idx,:] = [k,P,R,F,S]\n",
    "print(classification_report)"
   ]
  },
  {
   "cell_type": "code",
   "execution_count": 95,
   "metadata": {
    "execution": {
     "iopub.execute_input": "2022-06-15T02:07:02.015857Z",
     "iopub.status.busy": "2022-06-15T02:07:02.015367Z",
     "iopub.status.idle": "2022-06-15T02:07:02.029033Z",
     "shell.execute_reply": "2022-06-15T02:07:02.028459Z",
     "shell.execute_reply.started": "2022-06-15T02:07:02.015818Z"
    },
    "scrolled": true,
    "tags": []
   },
   "outputs": [
    {
     "data": {
      "text/html": [
       "<div>\n",
       "<style scoped>\n",
       "    .dataframe tbody tr th:only-of-type {\n",
       "        vertical-align: middle;\n",
       "    }\n",
       "\n",
       "    .dataframe tbody tr th {\n",
       "        vertical-align: top;\n",
       "    }\n",
       "\n",
       "    .dataframe thead th {\n",
       "        text-align: right;\n",
       "    }\n",
       "</style>\n",
       "<table border=\"1\" class=\"dataframe\">\n",
       "  <thead>\n",
       "    <tr style=\"text-align: right;\">\n",
       "      <th></th>\n",
       "      <th>spo关系类别</th>\n",
       "      <th>Precision</th>\n",
       "      <th>Recall</th>\n",
       "      <th>F1</th>\n",
       "      <th>support</th>\n",
       "    </tr>\n",
       "  </thead>\n",
       "  <tbody>\n",
       "    <tr>\n",
       "      <th>6</th>\n",
       "      <td>保存于</td>\n",
       "      <td>0.46118</td>\n",
       "      <td>0.8468</td>\n",
       "      <td>0.5971</td>\n",
       "      <td>124</td>\n",
       "    </tr>\n",
       "    <tr>\n",
       "      <th>4</th>\n",
       "      <td>面积大小</td>\n",
       "      <td>0.46118</td>\n",
       "      <td>0.8182</td>\n",
       "      <td>0.5899</td>\n",
       "      <td>11</td>\n",
       "    </tr>\n",
       "    <tr>\n",
       "      <th>16</th>\n",
       "      <td>相关文献</td>\n",
       "      <td>0.46118</td>\n",
       "      <td>0.75</td>\n",
       "      <td>0.5712</td>\n",
       "      <td>4</td>\n",
       "    </tr>\n",
       "    <tr>\n",
       "      <th>2</th>\n",
       "      <td>所属时代</td>\n",
       "      <td>0.46118</td>\n",
       "      <td>0.7368</td>\n",
       "      <td>0.5673</td>\n",
       "      <td>133</td>\n",
       "    </tr>\n",
       "    <tr>\n",
       "      <th>14</th>\n",
       "      <td>成立时间</td>\n",
       "      <td>0.46118</td>\n",
       "      <td>0.6364</td>\n",
       "      <td>0.5348</td>\n",
       "      <td>11</td>\n",
       "    </tr>\n",
       "    <tr>\n",
       "      <th>8</th>\n",
       "      <td>文保级别</td>\n",
       "      <td>0.46118</td>\n",
       "      <td>0.5</td>\n",
       "      <td>0.4798</td>\n",
       "      <td>10</td>\n",
       "    </tr>\n",
       "    <tr>\n",
       "      <th>11</th>\n",
       "      <td>相关单位</td>\n",
       "      <td>0.46118</td>\n",
       "      <td>0.4667</td>\n",
       "      <td>0.4639</td>\n",
       "      <td>15</td>\n",
       "    </tr>\n",
       "    <tr>\n",
       "      <th>1</th>\n",
       "      <td>所在地</td>\n",
       "      <td>0.46118</td>\n",
       "      <td>0.4375</td>\n",
       "      <td>0.449</td>\n",
       "      <td>48</td>\n",
       "    </tr>\n",
       "    <tr>\n",
       "      <th>18</th>\n",
       "      <td>馆长</td>\n",
       "      <td>0.46118</td>\n",
       "      <td>0.3333</td>\n",
       "      <td>0.3869</td>\n",
       "      <td>3</td>\n",
       "    </tr>\n",
       "    <tr>\n",
       "      <th>10</th>\n",
       "      <td>相关人物</td>\n",
       "      <td>0.46118</td>\n",
       "      <td>0.3077</td>\n",
       "      <td>0.3691</td>\n",
       "      <td>13</td>\n",
       "    </tr>\n",
       "    <tr>\n",
       "      <th>0</th>\n",
       "      <td>相关文物</td>\n",
       "      <td>0.46118</td>\n",
       "      <td>0.1739</td>\n",
       "      <td>0.2526</td>\n",
       "      <td>23</td>\n",
       "    </tr>\n",
       "    <tr>\n",
       "      <th>12</th>\n",
       "      <td>馆藏物品</td>\n",
       "      <td>0.46118</td>\n",
       "      <td>0.1429</td>\n",
       "      <td>0.2182</td>\n",
       "      <td>35</td>\n",
       "    </tr>\n",
       "    <tr>\n",
       "      <th>3</th>\n",
       "      <td>文物尺寸</td>\n",
       "      <td>0.46118</td>\n",
       "      <td>0.1033</td>\n",
       "      <td>0.1688</td>\n",
       "      <td>242</td>\n",
       "    </tr>\n",
       "    <tr>\n",
       "      <th>13</th>\n",
       "      <td>文化类型</td>\n",
       "      <td>0.46118</td>\n",
       "      <td>0.1</td>\n",
       "      <td>0.1644</td>\n",
       "      <td>10</td>\n",
       "    </tr>\n",
       "    <tr>\n",
       "      <th>5</th>\n",
       "      <td>发现时间</td>\n",
       "      <td>0.46118</td>\n",
       "      <td>0.0667</td>\n",
       "      <td>0.1165</td>\n",
       "      <td>30</td>\n",
       "    </tr>\n",
       "    <tr>\n",
       "      <th>7</th>\n",
       "      <td>建设时间</td>\n",
       "      <td>0.46118</td>\n",
       "      <td>0</td>\n",
       "      <td>0</td>\n",
       "      <td>0</td>\n",
       "    </tr>\n",
       "    <tr>\n",
       "      <th>15</th>\n",
       "      <td>文化组成</td>\n",
       "      <td>0.46118</td>\n",
       "      <td>0</td>\n",
       "      <td>0</td>\n",
       "      <td>4</td>\n",
       "    </tr>\n",
       "    <tr>\n",
       "      <th>17</th>\n",
       "      <td>文物重量</td>\n",
       "      <td>0.46118</td>\n",
       "      <td>0</td>\n",
       "      <td>0</td>\n",
       "      <td>3</td>\n",
       "    </tr>\n",
       "    <tr>\n",
       "      <th>9</th>\n",
       "      <td>相关建筑</td>\n",
       "      <td>0.46118</td>\n",
       "      <td>0</td>\n",
       "      <td>0</td>\n",
       "      <td>2</td>\n",
       "    </tr>\n",
       "  </tbody>\n",
       "</table>\n",
       "</div>"
      ],
      "text/plain": [
       "   spo关系类别 Precision  Recall      F1 support\n",
       "6      保存于   0.46118  0.8468  0.5971     124\n",
       "4     面积大小   0.46118  0.8182  0.5899      11\n",
       "16    相关文献   0.46118    0.75  0.5712       4\n",
       "2     所属时代   0.46118  0.7368  0.5673     133\n",
       "14    成立时间   0.46118  0.6364  0.5348      11\n",
       "8     文保级别   0.46118     0.5  0.4798      10\n",
       "11    相关单位   0.46118  0.4667  0.4639      15\n",
       "1      所在地   0.46118  0.4375   0.449      48\n",
       "18      馆长   0.46118  0.3333  0.3869       3\n",
       "10    相关人物   0.46118  0.3077  0.3691      13\n",
       "0     相关文物   0.46118  0.1739  0.2526      23\n",
       "12    馆藏物品   0.46118  0.1429  0.2182      35\n",
       "3     文物尺寸   0.46118  0.1033  0.1688     242\n",
       "13    文化类型   0.46118     0.1  0.1644      10\n",
       "5     发现时间   0.46118  0.0667  0.1165      30\n",
       "7     建设时间   0.46118       0       0       0\n",
       "15    文化组成   0.46118       0       0       4\n",
       "17    文物重量   0.46118       0       0       3\n",
       "9     相关建筑   0.46118       0       0       2"
      ]
     },
     "execution_count": 95,
     "metadata": {},
     "output_type": "execute_result"
    }
   ],
   "source": [
    "classification_report.sort_values('F1',ascending=False)"
   ]
  },
  {
   "cell_type": "markdown",
   "metadata": {
    "pycharm": {
     "name": "#%% md\n"
    }
   },
   "source": [
    "## 6 形成提交文件"
   ]
  },
  {
   "cell_type": "code",
   "execution_count": 96,
   "metadata": {
    "collapsed": false,
    "execution": {
     "iopub.execute_input": "2022-06-15T02:08:05.457538Z",
     "iopub.status.busy": "2022-06-15T02:08:05.456528Z",
     "iopub.status.idle": "2022-06-15T02:08:05.528667Z",
     "shell.execute_reply": "2022-06-15T02:08:05.528042Z",
     "shell.execute_reply.started": "2022-06-15T02:08:05.457481Z"
    },
    "jupyter": {
     "outputs_hidden": false
    },
    "pycharm": {
     "name": "#%%\n"
    },
    "scrolled": true,
    "tags": []
   },
   "outputs": [
    {
     "name": "stderr",
     "output_type": "stream",
     "text": [
      "200it [00:00, 60180.85it/s]\n"
     ]
    },
    {
     "data": {
      "text/plain": [
       "{'渣津龙岗商周遗址': [{'s': '渣津龙岗商周遗址', 'p': '相关人物', 'o': '许智范'},\n",
       "  {'s': '渣津龙岗商周遗址', 'p': '相关文献', 'o': '《江西考古资料汇编·修水发现二处古文化遗址》'}],\n",
       " '湖南银矿遗址': [{'s': '湖南银矿遗址', 'p': '所在地', 'o': '衢江区'},\n",
       "  {'s': '湖南银矿遗址', 'p': '所属时代', 'o': '五代'},\n",
       "  {'s': '湖南银矿遗址', 'p': '文保级别', 'o': '省级文物保护单位'},\n",
       "  {'s': '湖南银矿遗址', 'p': '相关文献', 'o': '《嘉庆一统志》'}],\n",
       " '唐代舟形双足陶砚': [{'s': '唐代舟形双足陶砚', 'p': '相关文物', 'o': '唐代舟形双足陶砚'},\n",
       "  {'s': '唐代舟形双足陶砚', 'p': '所属时代', 'o': '唐代'},\n",
       "  {'s': '唐代舟形双足陶砚', 'p': '保存于', 'o': '周口华威民俗文化博物苑'},\n",
       "  {'s': '唐代舟形双足陶砚', 'p': '相关人物', 'o': '刘熙'},\n",
       "  {'s': '周口华威民俗文化博物苑', 'p': '馆藏物品', 'o': '唐代舟形双足陶砚'},\n",
       "  {'s': '唐代舟形双足陶砚', 'p': '相关文献', 'o': '《释名》'}],\n",
       " '超峰晓月': [{'s': '超峰晓月', 'p': '所在地', 'o': '超山峰'}],\n",
       " '惠安涂岭蚁山遗址': [{'s': '惠安涂岭蚁山遗址', 'p': '所在地', 'o': '惠安县'},\n",
       "  {'s': '惠安涂岭蚁山遗址', 'p': '所属时代', 'o': '商周时期'}],\n",
       " '昙石山陶窑群遗址': [{'s': '昙石山陶窑群遗址', 'p': '所在地', 'o': '福建省闽侯县'},\n",
       "  {'s': '昙石山陶窑群遗址', 'p': '所属时代', 'o': '新石器时代'}],\n",
       " '西门遗址': [{'s': '西门遗址', 'p': '所在地', 'o': '扬州'},\n",
       "  {'s': '西门遗址', 'p': '发现时间', 'o': '隋·宋'},\n",
       "  {'s': '扬州城遗址', 'p': '建设时间', 'o': '隋·宋'}],\n",
       " '赵村遗址': [{'s': '甘肃省天水市秦城区师赵村遗址', 'p': '相关文物', 'o': '人像彩陶罐'},\n",
       "  {'s': '师赵村遗址', 'p': '所在地', 'o': '甘肃省天水市秦城区'},\n",
       "  {'s': '甘肃省天水市秦城区师赵村遗址', 'p': '面积大小', 'o': '20万平方米'}],\n",
       " '英国自然历史博物馆': [{'s': '英国自然历史博物馆', 'p': '所在地', 'o': '南肯辛顿区'},\n",
       "  {'s': '英国自然历史博物馆', 'p': '面积大小', 'o': '4万多平方米'}],\n",
       " '菏泽市博物馆': [{'s': '菏泽市博物馆', 'p': '所在地', 'o': '牡丹区'},\n",
       "  {'s': '菏泽市博物馆', 'p': '面积大小', 'o': '13000平方米'},\n",
       "  {'s': '展厅楼', 'p': '相关建筑', 'o': '菏泽市博物馆'},\n",
       "  {'s': '菏泽市博物馆', 'p': '成立时间', 'o': '1996年4月'}],\n",
       " '襄阳市博物馆': [{'s': '襄阳市博物馆', 'p': '所在地', 'o': '湖北省襄阳市襄城区'},\n",
       "  {'s': '襄阳市博物馆', 'p': '面积大小', 'o': '4202平方米'},\n",
       "  {'s': '襄阳市博物馆', 'p': '馆藏物品', 'o': '青铜器'},\n",
       "  {'s': '襄阳市博物馆', 'p': '成立时间', 'o': '1975年'}],\n",
       " '那不勒斯国家考古博物馆': [{'s': '那不勒斯国家考古博物馆', 'p': '相关文物', 'o': '青铜器'},\n",
       "  {'s': '那不勒斯国家考古博物馆', 'p': '所属时代', 'o': '18世纪后期'},\n",
       "  {'s': '那不勒斯国家考古博物馆', 'p': '发现时间', 'o': '18世纪后期'},\n",
       "  {'s': '那不勒斯国家考古博物馆', 'p': '建设时间', 'o': '18世纪后期'},\n",
       "  {'s': '那不勒斯国家考古博物馆', 'p': '馆藏物品', 'o': '青铜器'},\n",
       "  {'s': '那不勒斯国家考古博物馆', 'p': '成立时间', 'o': '18世纪后期'},\n",
       "  {'s': '那不勒斯国家考古博物馆', 'p': '馆长', 'o': '查尔斯'}],\n",
       " '郑州市古荥汉代冶铁遗址博物馆': [{'s': '郑州市古荥汉代冶铁遗址', 'p': '相关文物', 'o': '四角木架柱坑'},\n",
       "  {'s': '郑州市古荥汉代冶铁遗址', 'p': '文保级别', 'o': '全国重点文物保护单位'},\n",
       "  {'s': '郑州市古荥汉代冶铁遗址博物馆', 'p': '相关单位', 'o': '郑州市古荥汉代冶铁遗址保护管理所'},\n",
       "  {'s': '郑州市古荥汉代冶铁遗址保护管理所', 'p': '馆藏物品', 'o': '四角木架柱坑'},\n",
       "  {'s': '郑州市古荥汉代冶铁遗址保护管理所', 'p': '成立时间', 'o': '1984年7月'}],\n",
       " '酒泉市博物馆': [{'s': '酒泉市博物馆', 'p': '所在地', 'o': '酒泉市肃州区'},\n",
       "  {'s': '酒泉市博物馆', 'p': '面积大小', 'o': '6600平方米'},\n",
       "  {'s': '酒泉市博物馆', 'p': '成立时间', 'o': '2012年'}],\n",
       " '长沙简牍博物馆': [{'s': '长沙简牍博物馆', 'p': '所在地', 'o': '长沙市天心区'},\n",
       "  {'s': '长沙简牍博物馆', 'p': '馆藏物品', 'o': '漆木'},\n",
       "  {'s': '长沙简牍博物馆', 'p': '成立时间', 'o': '2002年'}],\n",
       " '长治市博物馆': [{'s': '长治市博物馆', 'p': '相关文物', 'o': '石刻'},\n",
       "  {'s': '长治市博物馆', 'p': '面积大小', 'o': '13340平方米'},\n",
       "  {'s': '长治市博物馆', 'p': '相关人物', 'o': '赵朴初'},\n",
       "  {'s': '长治市博物馆', 'p': '馆藏物品', 'o': '石刻'},\n",
       "  {'s': '长治市博物馆', 'p': '成立时间', 'o': '1992年10月'}],\n",
       " '黄河博物馆': [{'s': '黄河博物馆', 'p': '成立时间', 'o': '1955年'}],\n",
       " '黑龙江省博物馆': [{'s': '黑龙江省博物馆', 'p': '所在地', 'o': '哈尔滨市南岗区'},\n",
       "  {'s': '黑龙江省博物馆', 'p': '成立时间', 'o': '1906年'}],\n",
       " '洪水村遗址': [{'s': '洪水村遗址', 'p': '相关文物', 'o': '瓶'},\n",
       "  {'s': '洪水村遗址', 'p': '所在地', 'o': '三原县'},\n",
       "  {'s': '洪水村遗址', 'p': '所属时代', 'o': '仰韶文化'},\n",
       "  {'s': '洪水村遗址', 'p': '文保级别', 'o': '省级重点文物保护单位'}],\n",
       " '辽宁桓仁五女山山城遗址': [{'s': '五女山山城遗址', 'p': '所在地', 'o': '辽宁桓仁'},\n",
       "  {'s': '辽宁桓仁五女山山城遗址', 'p': '所属时代', 'o': '新石器时代'}],\n",
       " '郭家村文化遗址': [{'s': '郭家村文化遗址', 'p': '相关文物', 'o': '陶瓷碎片'},\n",
       "  {'s': '郭家村文化遗址', 'p': '所在地', 'o': '旅顺口区'},\n",
       "  {'s': '郭家村文化遗址', 'p': '发现时间', 'o': '5000多年前'},\n",
       "  {'s': '郭家村文化遗址', 'p': '建设时间', 'o': '5000多年前'},\n",
       "  {'s': '郭家村文化遗址', 'p': '文化类型', 'o': '大汶口文化'}],\n",
       " '建兴遗址': [{'s': '建兴遗址', 'p': '所在地', 'o': '晋城市泽州县'},\n",
       "  {'s': '建兴遗址', 'p': '所属时代', 'o': '汉代'},\n",
       "  {'s': '建兴遗址', 'p': '面积大小', 'o': '30000平方米'},\n",
       "  {'s': '建兴遗址', 'p': '发现时间', 'o': '2009年3月31号'},\n",
       "  {'s': '建兴遗址', 'p': '建设时间', 'o': '2009年3月31号'},\n",
       "  {'s': '建兴遗址', 'p': '相关单位', 'o': '山西省晋城市遗址专门调查队'},\n",
       "  {'s': '山西省晋城市遗址专门调查队', 'p': '成立时间', 'o': '2009年3月31号'}],\n",
       " '户县五凤遗址': [{'s': '户县五凤遗址', 'p': '相关文物', 'o': '仰韶文化'},\n",
       "  {'s': '户县五凤遗址', 'p': '所在地', 'o': '西安市'},\n",
       "  {'s': '户县五凤遗址', 'p': '所属时代', 'o': '秦汉时期'},\n",
       "  {'s': '户县五凤遗址', 'p': '面积大小', 'o': '20万平方米'},\n",
       "  {'s': '户县五凤遗址', 'p': '文保级别', 'o': '陕西省第六批省级文物保护单位'},\n",
       "  {'s': '户县五凤遗址', 'p': '文化类型', 'o': '仰韶文化'},\n",
       "  {'s': '户县五凤遗址', 'p': '文化组成', 'o': '仰韶文化'}],\n",
       " '种谷台遗址': [{'s': '种谷台遗址', 'p': '相关文物', 'o': '石斧'},\n",
       "  {'s': '种谷台遗址', 'p': '所在地', 'o': '武山县'},\n",
       "  {'s': '种谷台遗址', 'p': '所属时代', 'o': '新石器时代'},\n",
       "  {'s': '种谷台遗址', 'p': '面积大小', 'o': '25.5万平方米'},\n",
       "  {'s': '种谷台遗址', 'p': '建设时间', 'o': '新石器时代'},\n",
       "  {'s': '种谷台遗址', 'p': '文保级别', 'o': '省级文物保护单位'}],\n",
       " '芦城孜遗址': [{'s': '芦城孜遗址', 'p': '所属时代', 'o': '龙山文化时期'},\n",
       "  {'s': '芦城孜遗址', 'p': '面积大小', 'o': '6万平米'}],\n",
       " '河姆渡遗址博物馆': [{'s': '河姆渡遗址', 'p': '所属时代', 'o': '新石器时代'},\n",
       "  {'s': '河姆渡遗址', 'p': '面积大小', 'o': '4万平方米'},\n",
       "  {'s': '河姆渡遗址', 'p': '相关单位', 'o': '河姆渡遗址博物馆'},\n",
       "  {'s': '河姆渡遗址博物馆', 'p': '成立时间', 'o': '1973年'}],\n",
       " '郑州城外城陶瓷艺术博物馆': [{'s': '郑州城外城陶瓷艺术博物馆', 'p': '所在地', 'o': '郑州市'},\n",
       "  {'s': '郑州城外城陶瓷艺术博物馆', 'p': '面积大小', 'o': '4800多平方米'},\n",
       "  {'s': '郑州城外城陶瓷艺术博物馆', 'p': '馆藏物品', 'o': '5200余件'}],\n",
       " '杭州南宋临安府治遗址': [{'s': '杭州南宋临安府治遗址', 'p': '相关文物', 'o': '书院厅堂'},\n",
       "  {'s': '杭州南宋临安府治遗址', 'p': '所属时代', 'o': '南宋'},\n",
       "  {'s': '杭州南宋临安府治遗址', 'p': '面积大小', 'o': '880平方米'},\n",
       "  {'s': '杭州南宋临安府治遗址', 'p': '相关建筑', 'o': '书院厅堂'},\n",
       "  {'s': '杭州南宋临安府治遗址', 'p': '相关单位', 'o': '杭州市文物考古所'}],\n",
       " '三眼井遗址': [{'s': '三眼井遗址', 'p': '相关单位', 'o': '湖南省文物考古研究所'}],\n",
       " '内黄汉代建筑遗址': [{'s': '内黄汉代建筑遗址', 'p': '所在地', 'o': '河南省内黄县'}],\n",
       " '刘家庄北地遗址': [{'s': '刘家庄北地遗址', 'p': '所在地', 'o': '安阳市'},\n",
       "  {'s': '刘家庄北地遗址', 'p': '面积大小', 'o': '20000余平方米'},\n",
       "  {'s': '刘家庄北地遗址', 'p': '文保级别', 'o': '世界文化遗产'},\n",
       "  {'s': '刘家庄北地遗址', 'p': '相关单位', 'o': '安阳贞元集团'}],\n",
       " '永胜遗址': [{'s': '永胜遗址', 'p': '面积大小', 'o': '3平方公里'}],\n",
       " '石门抗日碉堡群遗址': [{'s': '石门抗日碉堡群遗址', 'p': '所在地', 'o': '湖南省常德市石门县'},\n",
       "  {'s': '石门抗日碉堡群遗址', 'p': '文保级别', 'o': '石门县文物保护单位'}],\n",
       " '磊石山抗战哨所遗址': [{'s': '磊石山抗战哨所遗址', 'p': '所在地', 'o': '湖南省岳阳市屈原管理区'},\n",
       "  {'s': '磊石山抗战哨所遗址', 'p': '文保级别', 'o': '湖南省文物保护单位'}],\n",
       " '羊草沟遗址': [{'s': '羊草沟遗址', 'p': '相关文物', 'o': '红烧土'},\n",
       "  {'s': '羊草沟遗址', 'p': '所在地', 'o': '吉林省伊通县'},\n",
       "  {'s': '羊草沟遗址', 'p': '所属时代', 'o': '新石器时代'},\n",
       "  {'s': '羊草沟遗址', 'p': '文保级别', 'o': '吉林省省级文物保护单位'},\n",
       "  {'s': '羊草沟遗址', 'p': '相关单位', 'o': '吉林省文物考古研究所'}],\n",
       " '胡疙瘩遗址': [{'s': '胡疙瘩遗址', 'p': '所在地', 'o': '陕北'},\n",
       "  {'s': '胡疙瘩遗址', 'p': '发现时间', 'o': '日前'},\n",
       "  {'s': '胡疙瘩遗址', 'p': '相关单位', 'o': '省考古研究所'}],\n",
       " '银山智人遗址': [{'s': '银山智人遗址', 'p': '所在地', 'o': '安徽省巢湖市'},\n",
       "  {'s': '银山智人遗址', 'p': '相关单位', 'o': '中国科学院古脊椎动物与古人类研究所'}],\n",
       " '里耶大板遗址与墓群': [{'s': '里耶大板遗址与墓群', 'p': '所在地', 'o': '湖南省湘西土家族苗族自治州龙山县'}],\n",
       " '瓷五彩描金花卉纹盖罐': [{'s': '瓷五彩描金花卉纹盖罐', 'p': '保存于', 'o': '国际友谊博物馆'},\n",
       "  {'s': '瓷五彩描金花卉纹盖罐', 'p': '相关人物', 'o': '李瑞环'},\n",
       "  {'s': '国际友谊博物馆', 'p': '馆藏物品', 'o': '瓷五彩描金花卉纹盖罐'}],\n",
       " '上海宋庆龄故居纪念馆': [{'s': '上海宋庆龄故居纪念馆', 'p': '所在地', 'o': '上海'},\n",
       "  {'s': '上海宋庆龄故居纪念馆', 'p': '文保级别', 'o': '全国重点文物保护单位'},\n",
       "  {'s': '上海宋庆龄故居纪念馆', 'p': '相关人物', 'o': '宋庆龄'}],\n",
       " '东南大学毕业证书': [{'s': '严济慈', 'p': '相关文物', 'o': '东南大学毕业证书'},\n",
       "  {'s': '东南大学毕业证书', 'p': '保存于', 'o': '严济慈纪念馆'},\n",
       "  {'s': '严济慈纪念馆', 'p': '馆藏物品', 'o': '东南大学毕业证书'}],\n",
       " '大明嘉靖三年大统历': [],\n",
       " '宋金杂剧砖雕': [{'s': '登封市黑山沟北宋（1097年）李守贵壁画墓', 'p': '相关文物', 'o': '宋金杂剧砖雕'},\n",
       "  {'s': '宋金杂剧砖雕', 'p': '所属时代', 'o': '北宋'},\n",
       "  {'s': '宋金杂剧砖雕', 'p': '保存于', 'o': '郑州市华夏文化艺术博物馆'},\n",
       "  {'s': '郑州市华夏文化艺术博物馆', 'p': '馆藏物品', 'o': '宋金杂剧砖雕'}],\n",
       " '宜兴窑玉麟款紫砂覆斗式壶': [{'s': '宜兴窑玉麟款紫砂覆斗式壶', 'p': '所属时代', 'o': '清末'}],\n",
       " '戎生编钟': [{'s': '戎生编钟', 'p': '所属时代', 'o': '西周中期'},\n",
       "  {'s': '戎生编钟', 'p': '保存于', 'o': '北京保利艺术博物馆'},\n",
       "  {'s': '北京保利艺术博物馆', 'p': '馆藏物品', 'o': '戎生编钟'}],\n",
       " '明董其昌栖霞寺诗意图轴': [{'s': '明董其昌栖霞寺诗意图轴', 'p': '所属时代', 'o': '明朝'},\n",
       "  {'s': '《明董其昌栖霞寺诗意图轴》', 'p': '保存于', 'o': '上海博物馆'},\n",
       "  {'s': '《明董其昌栖霞寺诗意图轴', 'p': '相关人物', 'o': '董其昌'},\n",
       "  {'s': '上海博物馆', 'p': '馆藏物品', 'o': '《明董其昌栖霞寺诗意图轴》'}],\n",
       " '柞伯簋': [{'s': '河南平顶山应国墓地', 'p': '相关文物', 'o': '柞伯簋'},\n",
       "  {'s': '柞伯簋', 'p': '所属时代', 'o': '西周时期'},\n",
       "  {'s': '柞伯簋', 'p': '保存于', 'o': '河南平顶山应国墓地M242'},\n",
       "  {'s': '柞伯簋', 'p': '相关人物', 'o': '周康王'}],\n",
       " '清侯松音深雕瑶池归宴笔筒通': [{'s': '清侯松音深雕瑶池归宴笔筒通', 'p': '所属时代', 'o': '清代'},\n",
       "  {'s': '清侯松音深雕瑶池归宴笔筒通', 'p': '文物尺寸', 'o': '4.4厘米'},\n",
       "  {'s': '清侯松音深雕瑶池归宴笔筒通', 'p': '保存于', 'o': '宁波博物馆'},\n",
       "  {'s': '宁波博物馆', 'p': '馆藏物品', 'o': '清侯松音深雕瑶池归宴笔筒通'}],\n",
       " '清科举考试古代陈松龄殿试卷': [{'s': '陈松龄殿试卷', 'p': '相关文物', 'o': '清科举考试古代陈松龄殿试卷'},\n",
       "  {'s': '清科举考试古代陈松龄殿试卷', 'p': '所属时代', 'o': '清代'},\n",
       "  {'s': '清科举考试古代陈松龄殿试卷', 'p': '保存于', 'o': '聚协昌博物馆'},\n",
       "  {'s': '聚协昌博物馆', 'p': '馆藏物品', 'o': '清科举考试古代陈松龄殿试卷'}],\n",
       " '瞿秋白使用的皮箱': [{'s': '瞿秋白使用的皮箱', 'p': '保存于', 'o': '中国共产党第一次全国代表大会会址纪念馆'},\n",
       "  {'s': '中国共产党第一次全国代表大会会址纪念馆', 'p': '馆藏物品', 'o': '瞿秋白使用的皮箱'}],\n",
       " '唐益州正觉寺故大德行感禅师塔铭并序刻石': [{'s': '唐益州正觉寺故大德行感禅师塔铭并序刻石', 'p': '所属时代', 'o': '唐代'},\n",
       "  {'s': '唐益州正觉寺故大德行感禅师塔铭并序刻石', 'p': '保存于', 'o': '成都杜甫草堂博物馆'},\n",
       "  {'s': '成都杜甫草堂博物馆', 'p': '馆藏物品', 'o': '唐益州正觉寺故大德行感禅师塔铭并序刻石'}],\n",
       " '唐青釉双龙尊': [{'s': '唐青釉双龙尊', 'p': '所属时代', 'o': '唐代'},\n",
       "  {'s': '唐青釉双龙尊', 'p': '文物尺寸', 'o': '36.8厘米'},\n",
       "  {'s': '唐青釉双龙尊', 'p': '保存于', 'o': '新乡市博物馆'},\n",
       "  {'s': '新乡市博物馆', 'p': '馆藏物品', 'o': '唐青釉双龙尊'}],\n",
       " '大禾人面方鼎': [{'s': '大禾人面方鼎', 'p': '所属时代', 'o': '商代后期'},\n",
       "  {'s': '大禾人面方鼎', 'p': '文物尺寸', 'o': '38.5厘米'},\n",
       "  {'s': '大禾人面方鼎', 'p': '保存于', 'o': '湖南省博物馆'},\n",
       "  {'s': '湖南省博物馆', 'p': '馆藏物品', 'o': '大禾人面方鼎'}],\n",
       " '宋代白瓷罐': [{'s': '宋代白瓷罐', 'p': '所属时代', 'o': '宋代'},\n",
       "  {'s': '宋代白瓷罐', 'p': '保存于', 'o': '聊城中国运河文化博物馆'},\n",
       "  {'s': '聊城中国运河文化博物馆', 'p': '馆藏物品', 'o': '宋代白瓷罐'}],\n",
       " '宋末元初龙泉窑青瓷公道杯': [{'s': '宋末元初龙泉窑青瓷公道杯', 'p': '相关文物', 'o': '宋末元初龙泉窑青瓷公道杯'},\n",
       "  {'s': '宋末元初龙泉窑青瓷公道杯', 'p': '所属时代', 'o': '宋末元初'},\n",
       "  {'s': '宋末元初龙泉窑青瓷公道杯', 'p': '文物尺寸', 'o': '6.6厘米'},\n",
       "  {'s': '宋末元初龙泉窑青瓷公道杯', 'p': '保存于', 'o': '临海市博物馆'},\n",
       "  {'s': '临海市博物馆', 'p': '馆藏物品', 'o': '宋末元初龙泉窑青瓷公道杯'}],\n",
       " '宋福清窑黑釉盏': [{'s': '宋福清窑黑釉盏', 'p': '文物尺寸', 'o': '6.5cm'},\n",
       "  {'s': '宋福清窑黑釉盏', 'p': '保存于', 'o': '北京故宫博物院'},\n",
       "  {'s': '北京故宫博物院', 'p': '馆藏物品', 'o': '宋福清窑黑釉盏'}],\n",
       " '官庄遗址': [{'s': '官庄遗址', 'p': '所在地', 'o': '山东宁阳县'},\n",
       "  {'s': '官庄遗址', 'p': '所属时代', 'o': '新石器时代'},\n",
       "  {'s': '官庄遗址', 'p': '面积大小', 'o': '2万平方米'},\n",
       "  {'s': '官庄遗址', 'p': '建设时间', 'o': '新石器时代'}],\n",
       " '定窑白釉刻花莲瓣纹龙首净瓶': [{'s': '河北定县净众院塔基', 'p': '相关文物', 'o': '定窑白釉刻花莲瓣纹龙首净瓶'},\n",
       "  {'s': '定窑白釉刻花莲瓣纹龙首净瓶', 'p': '文物尺寸', 'o': '60.5厘米'},\n",
       "  {'s': '定窑白釉刻花莲瓣纹龙首净瓶', 'p': '发现时间', 'o': '1969年'},\n",
       "  {'s': '定窑白釉刻花莲瓣纹龙首净瓶', 'p': '保存于', 'o': '定州市博物馆'},\n",
       "  {'s': '定州市博物馆', 'p': '馆藏物品', 'o': '定窑白釉刻花莲瓣纹龙首净瓶'}],\n",
       " '张作霖的梅兰竹菊题诗笔筒': [{'s': '张作霖的梅兰竹菊题诗笔筒', 'p': '文物尺寸', 'o': '7.8厘米'},\n",
       "  {'s': '张作霖的梅兰竹菊题诗笔筒', 'p': '保存于', 'o': '张氏帅府博物馆'},\n",
       "  {'s': '张氏帅府博物馆', 'p': '馆藏物品', 'o': '张作霖的梅兰竹菊题诗笔筒'}],\n",
       " '忿怒手持金刚菩萨唐卡': [{'s': '忿怒手持金刚菩萨唐卡', 'p': '所属时代', 'o': '18世纪'},\n",
       "  {'s': '忿怒手持金刚菩萨唐卡', 'p': '文物尺寸', 'o': '76厘米'},\n",
       "  {'s': '忿怒手持金刚菩萨唐卡', 'p': '保存于', 'o': '清宫旧藏'}],\n",
       " '战国印纹陶': [{'s': '战国印纹陶', 'p': '相关文物', 'o': '战国印纹陶'},\n",
       "  {'s': '战国印纹陶', 'p': '保存于', 'o': '福建省源古历史博物馆'},\n",
       "  {'s': '福建省源古历史博物馆', 'p': '馆藏物品', 'o': '战国印纹陶'}],\n",
       " '战国双环耳素铜甑': [{'s': '战国双环耳素铜甑', 'p': '所属时代', 'o': '战国时期'},\n",
       "  {'s': '战国双环耳素铜甑', 'p': '保存于', 'o': '侯马晋国古都博物馆'},\n",
       "  {'s': '侯马晋国古都博物馆', 'p': '馆藏物品', 'o': '战国双环耳素铜甑'}],\n",
       " '战国研磨器': [{'s': '战国研磨器', 'p': '相关文物', 'o': '战国研磨器'},\n",
       "  {'s': '战国研磨器', 'p': '所属时代', 'o': '战国时期'},\n",
       "  {'s': '战国研磨器', 'p': '保存于', 'o': '郑州市东方翰典文化博物馆'},\n",
       "  {'s': '郑州市东方翰典文化博物馆', 'p': '馆藏物品', 'o': '战国研磨器'}],\n",
       " '战国铜镜': [{'s': '战国铜镜', 'p': '相关文物', 'o': '战国铜镜'},\n",
       "  {'s': '战国铜镜', 'p': '所属时代', 'o': '战国'},\n",
       "  {'s': '战国铜镜', 'p': '保存于', 'o': '长军古陶瓷博物馆'},\n",
       "  {'s': '长军古陶瓷博物馆', 'p': '馆藏物品', 'o': '战国铜镜'}],\n",
       " '新石器时代泥质灰陶平底高圈足陶簋': [{'s': '闽侯昙石山遗址', 'p': '相关文物', 'o': '新石器时代泥质灰陶平底高圈足陶簋'},\n",
       "  {'s': '新石器时代泥质灰陶平底高圈足陶簋', 'p': '文物尺寸', 'o': '14.3厘米'},\n",
       "  {'s': '新石器时代泥质灰陶平底高圈足陶簋', 'p': '保存于', 'o': '福建省昙石山遗址博物馆'},\n",
       "  {'s': '闽侯昙石山遗址', 'p': '相关单位', 'o': '福建省昙石山遗址博物馆'},\n",
       "  {'s': '福建省昙石山遗址博物馆', 'p': '馆藏物品', 'o': '新石器时代泥质灰陶平底高圈足陶簋'}],\n",
       " '新石器玉环': [{'s': '新石器玉环', 'p': '所属时代', 'o': '新石器时代·良渚文化时期'},\n",
       "  {'s': '新石器玉环', 'p': '保存于', 'o': '绍兴博物馆'},\n",
       "  {'s': '绍兴博物馆', 'p': '馆藏物品', 'o': '新石器玉环'}],\n",
       " '明代青花缠枝莲纹碗': [{'s': '明代青花缠枝莲纹碗', 'p': '所属时代', 'o': '明代正统至天顺时期'},\n",
       "  {'s': '明代青花缠枝莲纹碗', 'p': '保存于', 'o': '洛阳树威古瓷鉴藏博物馆'},\n",
       "  {'s': '洛阳树威古瓷鉴藏博物馆', 'p': '馆藏物品', 'o': '明代青花缠枝莲纹碗'}],\n",
       " '明嘉靖青花缠枝花卉纹葫芦瓶': [{'s': '明嘉靖青花缠枝花卉纹葫芦瓶', 'p': '所属时代', 'o': '明代'},\n",
       "  {'s': '明嘉靖青花缠枝花卉纹葫芦瓶', 'p': '保存于', 'o': '江西省博物馆'},\n",
       "  {'s': '江西省博物馆', 'p': '馆藏物品', 'o': '明嘉靖青花缠枝花卉纹葫芦瓶'}],\n",
       " '明嘉靖青花龙凤鹤纹罐': [{'s': '明嘉靖青花龙凤鹤纹罐', 'p': '所属时代', 'o': '明代'},\n",
       "  {'s': '明嘉靖青花龙凤鹤纹罐', 'p': '保存于', 'o': '江西省博物馆'},\n",
       "  {'s': '江西省博物馆', 'p': '馆藏物品', 'o': '明嘉靖青花龙凤鹤纹罐'}],\n",
       " '明成化年间碑刻': [{'s': '明成化年间碑刻', 'p': '所属时代', 'o': '明代'},\n",
       "  {'s': '明成化年间碑刻', 'p': '发现时间', 'o': '大明成化二十三年（1487）'},\n",
       "  {'s': '明成化年间碑刻', 'p': '保存于', 'o': '郑州市古荥汉代冶铁遗址博物馆'},\n",
       "  {'s': '郑州市古荥汉代冶铁遗址博物馆', 'p': '馆藏物品', 'o': '明成化年间碑刻'}],\n",
       " '明重修纪公庙记': [{'s': '纪信庙', 'p': '相关文物', 'o': '明重修纪公庙记'},\n",
       "  {'s': '明重修纪公庙记', 'p': '所属时代', 'o': '明代'},\n",
       "  {'s': '明重修纪公庙记', 'p': '保存于', 'o': '郑州市古荥汉代冶铁遗址博物馆'},\n",
       "  {'s': '明重修纪公庙记', 'p': '相关单位', 'o': '郑州市古荥汉代冶铁遗址博物馆'},\n",
       "  {'s': '郑州市古荥汉代冶铁遗址博物馆', 'p': '馆藏物品', 'o': '明重修纪公庙记'}],\n",
       " '明镶宝王母驾鸾金桃心': [{'s': '明镶宝王母驾鸾金桃心', 'p': '所属时代', 'o': '明朝'},\n",
       "  {'s': '明镶宝王母驾鸾金桃心', 'p': '保存于', 'o': '江西省博物馆'},\n",
       "  {'s': '江西省博物馆', 'p': '馆藏物品', 'o': '明镶宝王母驾鸾金桃心'}],\n",
       " '明青釉弦纹三足炉': [{'s': '明青釉弦纹三足炉', 'p': '所属时代', 'o': '明朝'},\n",
       "  {'s': '明青釉弦纹三足炉', 'p': '文物尺寸', 'o': '7.5厘米'},\n",
       "  {'s': '明青釉弦纹三足炉', 'p': '发现时间', 'o': '明朝万历二十七年'},\n",
       "  {'s': '明青釉弦纹三足炉', 'p': '保存于', 'o': '嘉兴博物馆'},\n",
       "  {'s': '嘉兴博物馆', 'p': '馆藏物品', 'o': '明青釉弦纹三足炉'}],\n",
       " '春秋早期龙形玉佩': [{'s': '春秋早期龙形玉佩', 'p': '所属时代', 'o': '春秋早期'},\n",
       "  {'s': '春秋早期龙形玉佩', 'p': '保存于', 'o': '襄阳市博物馆'},\n",
       "  {'s': '襄阳市博物馆', 'p': '馆藏物品', 'o': '春秋早期龙形玉佩'}],\n",
       " '春秋玉蟾蜍': [{'s': '春秋玉蟾蜍', 'p': '相关文物', 'o': '春秋玉蟾蜍'},\n",
       "  {'s': '春秋玉蟾蜍', 'p': '所属时代', 'o': '春秋时期'},\n",
       "  {'s': '春秋玉蟾蜍', 'p': '保存于', 'o': '襄阳市博物馆'},\n",
       "  {'s': '襄阳市博物馆', 'p': '馆藏物品', 'o': '春秋玉蟾蜍'}],\n",
       " '晋代青铜熏炉': [{'s': '晋代青铜熏炉', 'p': '相关文物', 'o': '晋代青铜熏炉'},\n",
       "  {'s': '晋代青铜熏炉', 'p': '所属时代', 'o': '晋代'},\n",
       "  {'s': '晋代青铜熏炉', 'p': '保存于', 'o': '郑州市东方翰典文化博物馆'},\n",
       "  {'s': '郑州市东方翰典文化博物馆', 'p': '馆藏物品', 'o': '晋代青铜熏炉'}],\n",
       " '晋黄釉陶猪圈': [{'s': '晋黄釉陶猪圈', 'p': '相关文物', 'o': '晋黄釉陶猪圈'},\n",
       "  {'s': '晋黄釉陶猪圈', 'p': '所属时代', 'o': '晋代'},\n",
       "  {'s': '晋黄釉陶猪圈', 'p': '文物尺寸', 'o': '6.3厘米'},\n",
       "  {'s': '晋黄釉陶猪圈', 'p': '保存于', 'o': '宜城市博物馆'},\n",
       "  {'s': '宜城市博物馆', 'p': '馆藏物品', 'o': '晋黄釉陶猪圈'}],\n",
       " '榆木风车': [{'s': '榆木风车', 'p': '相关文物', 'o': '榆木风车'},\n",
       "  {'s': '榆木风车', 'p': '所属时代', 'o': '当代'},\n",
       "  {'s': '榆木风车', 'p': '保存于', 'o': '洛阳古典红木家具博物馆'},\n",
       "  {'s': '洛阳古典红木家具博物馆', 'p': '馆藏物品', 'o': '榆木风车'}],\n",
       " '樊夫人龙嬴盤': [{'s': '河南省信阳市平桥西南山嘴“樊君樊夫人”合葬墓', 'p': '相关文物', 'o': '樊夫人龙嬴盤'},\n",
       "  {'s': '樊夫人龙嬴盤', 'p': '所属时代', 'o': '春秋早期年代'},\n",
       "  {'s': '樊夫人龙嬴盤', 'p': '发现时间', 'o': '春秋早期年代'},\n",
       "  {'s': '樊夫人龙嬴盤', 'p': '保存于', 'o': '河南博物院'},\n",
       "  {'s': '河南博物院', 'p': '馆藏物品', 'o': '樊夫人龙嬴盤'}],\n",
       " '民国木拧麻台': [{'s': '民国木拧麻台', 'p': '相关文物', 'o': '民国木拧麻台'},\n",
       "  {'s': '民国木拧麻台', 'p': '所属时代', 'o': '民国时期'},\n",
       "  {'s': '民国木拧麻台', 'p': '保存于', 'o': '景宁畲族自治县畲族博物馆'},\n",
       "  {'s': '景宁畲族自治县畲族博物馆', 'p': '馆藏物品', 'o': '民国木拧麻台'}],\n",
       " '民国木箕': [{'s': '民国木箕', 'p': '所属时代', 'o': '民国'},\n",
       "  {'s': '民国木箕', 'p': '保存于', 'o': '老雒阳饮食文化博物馆'},\n",
       "  {'s': '老雒阳饮食文化博物馆', 'p': '馆藏物品', 'o': '民国木箕'}],\n",
       " '民国清式螭纹书柜': [{'s': '民国清式螭纹书柜', 'p': '所属时代', 'o': '民国'},\n",
       "  {'s': '民国清式螭纹书柜', 'p': '保存于', 'o': '洛阳古典红木家具博物馆'},\n",
       "  {'s': '洛阳古典红木家具博物馆', 'p': '馆藏物品', 'o': '民国清式螭纹书柜'}],\n",
       " '民国漳州窑米黄釉海棠口果盘': [{'s': '民国漳州窑米黄釉海棠口果盘', 'p': '所属时代', 'o': '民国'},\n",
       "  {'s': '民国漳州窑米黄釉海棠口果盘', 'p': '保存于', 'o': '厦门市博物馆'},\n",
       "  {'s': '厦门市博物馆', 'p': '馆藏物品', 'o': '民国漳州窑米黄釉海棠口果盘'}],\n",
       " '民国童子拜观音瓷像': [{'s': '民国童子拜观音瓷像', 'p': '相关文物', 'o': '民国童子拜观音瓷像'},\n",
       "  {'s': '民国童子拜观音瓷像', 'p': '所属时代', 'o': '民国时期'},\n",
       "  {'s': '民国童子拜观音瓷像', 'p': '保存于', 'o': '武汉中山舰博物馆'},\n",
       "  {'s': '武汉中山舰博物馆', 'p': '馆藏物品', 'o': '民国童子拜观音瓷像'}],\n",
       " '民国竹扁圆形水壶': [{'s': '民国竹扁圆形水壶', 'p': '所属时代', 'o': '民国时期'},\n",
       "  {'s': '民国竹扁圆形水壶', 'p': '文物尺寸', 'o': '11.5厘米'},\n",
       "  {'s': '民国竹扁圆形水壶', 'p': '保存于', 'o': '景宁畲族自治县畲族博物馆'},\n",
       "  {'s': '景宁畲族自治县畲族博物馆', 'p': '馆藏物品', 'o': '民国竹扁圆形水壶'}],\n",
       " '汉代铜鍪': [{'s': '汉代铜鍪', 'p': '相关文物', 'o': '汉代铜鍪'},\n",
       "  {'s': '汉代铜鍪', 'p': '所属时代', 'o': '汉代'},\n",
       "  {'s': '汉代铜鍪', 'p': '文物尺寸', 'o': '22.5厘米'},\n",
       "  {'s': '汉代铜鍪', 'p': '保存于', 'o': '仁怀市博物馆'},\n",
       "  {'s': '仁怀市博物馆', 'p': '馆藏物品', 'o': '汉代铜鍪'}],\n",
       " '汉代陶楼': [{'s': '汉代陶楼', 'p': '保存于', 'o': '成都香米园汉陶艺术博物馆'},\n",
       "  {'s': '成都香米园汉陶艺术博物馆', 'p': '馆藏物品', 'o': '汉代陶楼'}],\n",
       " '汉代陶马之二': [{'s': '汉代陶马之二', 'p': '相关文物', 'o': '汉代陶马之二'},\n",
       "  {'s': '汉代陶马之二', 'p': '所属时代', 'o': '汉代'},\n",
       "  {'s': '汉代陶马之二', 'p': '保存于', 'o': '成都香米园汉陶艺术博物馆'},\n",
       "  {'s': '成都香米园汉陶艺术博物馆', 'p': '馆藏物品', 'o': '汉代陶马之二'}],\n",
       " '汉白玉耳杯': [{'s': '吉林省集安县', 'p': '相关文物', 'o': '汉白玉耳杯'},\n",
       "  {'s': '汉白玉耳杯', 'p': '所属时代', 'o': '汉代'}],\n",
       " '清“与天地参”匾': [{'s': '清“与天地参”匾', 'p': '保存于', 'o': '孔庙'},\n",
       "  {'s': '国子监博物馆', 'p': '馆藏物品', 'o': '清“与天地参”匾'}],\n",
       " '清“吉祥”款太少狮钮象牙烟盒': [{'s': '清“吉祥”款太少狮钮象牙烟盒', 'p': '所属时代', 'o': '清代'},\n",
       "  {'s': '清“吉祥”款太少狮钮象牙烟盒', 'p': '保存于', 'o': '鸦片战争博物馆'},\n",
       "  {'s': '鸦片战争博物馆', 'p': '馆藏物品', 'o': '清“吉祥”款太少狮钮象牙烟盒'}],\n",
       " '清乾隆款珐琅蓝彩十三行通景画碗': [{'s': '清乾隆款珐琅蓝彩十三行通景画碗', 'p': '所属时代', 'o': '清代'},\n",
       "  {'s': '清乾隆款珐琅蓝彩十三行通景画碗', 'p': '保存于', 'o': '鸦片战争博物馆'},\n",
       "  {'s': '鸦片战争博物馆', 'p': '馆藏物品', 'o': '清乾隆款珐琅蓝彩十三行通景画碗'}],\n",
       " '清代汉忠烈侯纪公庙碑记': [{'s': '清代汉忠烈侯纪公庙碑记', 'p': '相关文物', 'o': '清代汉忠烈侯纪公庙碑记'},\n",
       "  {'s': '清代汉忠烈侯纪公庙碑记', 'p': '所属时代', 'o': '清代'},\n",
       "  {'s': '清代汉忠烈侯纪公庙碑记', 'p': '保存于', 'o': '郑州市古荥汉代冶铁遗址博物馆'},\n",
       "  {'s': '郑州市古荥汉代冶铁遗址博物馆', 'p': '馆藏物品', 'o': '清代汉忠烈侯纪公庙碑记'}],\n",
       " '清代诗赋': [{'s': '清代诗赋', 'p': '相关文物', 'o': '清代诗赋'},\n",
       "  {'s': '清代诗赋', 'p': '所属时代', 'o': '清代'},\n",
       "  {'s': '清代诗赋', 'p': '保存于', 'o': '聚协昌博物馆'},\n",
       "  {'s': '聚协昌博物馆', 'p': '馆藏物品', 'o': '清代诗赋'}],\n",
       " '清任预仿赵大年山水页': [{'s': '清任预仿赵大年山水页', 'p': '所属时代', 'o': '宋代'},\n",
       "  {'s': '清任预仿赵大年山水页', 'p': '文物尺寸', 'o': '27厘米'},\n",
       "  {'s': '赵大年', 'p': '相关人物', 'o': '任预'}],\n",
       " '清吴谷祥《虞山十八景册》': [{'s': '清吴谷祥《虞山十八景册》', 'p': '所属时代', 'o': '清代'},\n",
       "  {'s': '清吴谷祥《虞山十八景册》', 'p': '保存于', 'o': '常熟博物馆'},\n",
       "  {'s': '常熟博物馆', 'p': '馆藏物品', 'o': '清吴谷祥《虞山十八景册》'}],\n",
       " '清嘉庆官窑粉彩“九狮”碗': [{'s': '清嘉庆官窑粉彩“九狮”碗', 'p': '保存于', 'o': '丽水市博物馆'},\n",
       "  {'s': '丽水市博物馆', 'p': '馆藏物品', 'o': '清嘉庆官窑粉彩“九狮”碗'}],\n",
       " '清康熙墨地五彩雉鸡牡丹纹琵琶尊': [{'s': '清康熙墨地五彩雉鸡牡丹纹琵琶尊', 'p': '所属时代', 'o': '清代'},\n",
       "  {'s': '清康熙墨地五彩雉鸡牡丹纹琵琶尊', 'p': '保存于', 'o': '观复博物馆'},\n",
       "  {'s': '观复博物馆', 'p': '馆藏物品', 'o': '清康熙墨地五彩雉鸡牡丹纹琵琶尊'}],\n",
       " '清彩漆琴几': [{'s': '清彩漆琴几', 'p': '所属时代', 'o': '战国初期'},\n",
       "  {'s': '清彩漆琴几', 'p': '保存于', 'o': '老雒阳饮食文化博物馆'},\n",
       "  {'s': '老雒阳饮食文化博物馆', 'p': '馆藏物品', 'o': '清彩漆琴几'}],\n",
       " '清木雕刘海戏金蟾': [{'s': '清木雕刘海戏金蟾', 'p': '相关文物', 'o': '清木雕刘海戏金蟾'},\n",
       "  {'s': '清木雕刘海戏金蟾', 'p': '所属时代', 'o': '清代'},\n",
       "  {'s': '清木雕刘海戏金蟾', 'p': '保存于', 'o': '安徽省源泉徽文化民俗博物馆'},\n",
       "  {'s': '安徽省源泉徽文化民俗博物馆', 'p': '馆藏物品', 'o': '清木雕刘海戏金蟾'}],\n",
       " '清朱彝尊消像端砚': [{'s': '端溪大西洞', 'p': '相关文物', 'o': '清朱彝尊消像端砚'},\n",
       "  {'s': '清朱彝尊消像端砚', 'p': '所属时代', 'o': '清代'},\n",
       "  {'s': '清朱彝尊消像端砚', 'p': '文物尺寸', 'o': '19.3厘米'},\n",
       "  {'s': '清朱彝尊消像端砚', 'p': '相关人物', 'o': '朱彝尊'},\n",
       "  {'s': '端溪大西洞', 'p': '馆藏物品', 'o': '清朱彝尊消像端砚'}],\n",
       " '清郑军藤牌': [{'s': '清郑军藤牌', 'p': '相关文物', 'o': '清郑军藤牌'},\n",
       "  {'s': '清郑军藤牌', 'p': '所属时代', 'o': '清代'},\n",
       "  {'s': '清郑军藤牌', 'p': '保存于', 'o': '厦门市博物馆郑成功纪念馆'},\n",
       "  {'s': '厦门市博物馆郑成功纪念馆', 'p': '馆藏物品', 'o': '清郑军藤牌'}],\n",
       " '清金漆木雕人物故事宫灯': [{'s': '清金漆木雕人物故事宫灯', 'p': '所属时代', 'o': '清代'},\n",
       "  {'s': '清金漆木雕人物故事宫灯', 'p': '文物尺寸', 'o': '58厘米'},\n",
       "  {'s': '清金漆木雕人物故事宫灯', 'p': '保存于', 'o': '福建省非物质文化遗产博览苑'},\n",
       "  {'s': '福建省非物质文化遗产博览苑', 'p': '馆藏物品', 'o': '清金漆木雕人物故事宫灯'}],\n",
       " '清金石彝器款识': [{'s': '清金石彝器', 'p': '相关文物', 'o': '清金石彝器款识'},\n",
       "  {'s': '清金石彝器款识', 'p': '所属时代', 'o': '清代'},\n",
       "  {'s': '清金石彝器款识', 'p': '保存于', 'o': '临海市博物馆'},\n",
       "  {'s': '临海市博物馆', 'p': '馆藏物品', 'o': '清金石彝器款识'}],\n",
       " '清钱诗船刻黄杨木章': [{'s': '清钱诗船刻黄杨木章', 'p': '所属时代', 'o': '清代'},\n",
       "  {'s': '清钱诗船刻黄杨木章', 'p': '保存于', 'o': '南通博物苑'},\n",
       "  {'s': '南通博物苑', 'p': '馆藏物品', 'o': '清钱诗船刻黄杨木章'}],\n",
       " '清韦陀铜造像': [{'s': '清韦陀铜造像', 'p': '所属时代', 'o': '清代'},\n",
       "  {'s': '清韦陀铜造像', 'p': '文物尺寸', 'o': '70厘米'},\n",
       "  {'s': '清韦陀铜造像', 'p': '保存于', 'o': '新乡市博物馆'},\n",
       "  {'s': '新乡市博物馆', 'p': '馆藏物品', 'o': '清韦陀铜造像'}],\n",
       " '清黑砂豫丰等双款寿星壶': [{'s': '清黑砂豫丰等双款寿星壶', 'p': '所属时代', 'o': '清代'},\n",
       "  {'s': '清黑砂豫丰等双款寿星壶', 'p': '保存于', 'o': '丽水市博物馆'},\n",
       "  {'s': '丽水市博物馆', 'p': '馆藏物品', 'o': '清黑砂豫丰等双款寿星壶'}],\n",
       " '灵岩寺彩塑罗汉像': [{'s': '灵岩寺', 'p': '相关文物', 'o': '灵岩寺彩塑罗汉像'},\n",
       "  {'s': '灵岩寺', 'p': '所在地', 'o': '长清县'}],\n",
       " '玄奥的智慧羑里城': [{'s': '羑里城', 'p': '相关文物', 'o': '《玄奥的智慧羑里城》'},\n",
       "  {'s': '《玄奥的智慧羑里城》', 'p': '保存于', 'o': '河南省图书馆'},\n",
       "  {'s': '羑里城', 'p': '相关单位', 'o': '河南省图书馆'},\n",
       "  {'s': '河南省图书馆', 'p': '馆藏物品', 'o': '《玄奥的智慧羑里城》'}],\n",
       " '王笃纯群鹅戏银波黄杨木雕': [{'s': '王笃纯群鹅戏银波黄杨木雕', 'p': '所属时代', 'o': '现代'},\n",
       "  {'s': '王笃纯群鹅戏银波黄杨木雕', 'p': '保存于', 'o': '杭州工艺美术博物馆'},\n",
       "  {'s': '杭州工艺美术博物馆', 'p': '馆藏物品', 'o': '王笃纯群鹅戏银波黄杨木雕'}],\n",
       " '秦金当卢': [{'s': '秦金当卢', 'p': '相关文物', 'o': '秦金当卢'},\n",
       "  {'s': '秦金当卢', 'p': '所属时代', 'o': '秦代'},\n",
       "  {'s': '秦金当卢', 'p': '保存于', 'o': '秦始皇帝陵博物院'},\n",
       "  {'s': '秦始皇帝陵博物院', 'p': '馆藏物品', 'o': '秦金当卢'}],\n",
       " '绹索龙纹壶': [{'s': '绹索龙纹壶', 'p': '所属时代', 'o': '商代'},\n",
       "  {'s': '绹索龙纹壶', 'p': '发现时间', 'o': '商代早期'}],\n",
       " '罗汉像残片图': [{'s': '唐代罗汉像残片图', 'p': '文物尺寸', 'o': '29厘米×47.5厘米'},\n",
       "  {'s': '唐代罗汉像残片图', 'p': '保存于', 'o': '德国国家博物馆'},\n",
       "  {'s': '德国国家博物馆', 'p': '馆藏物品', 'o': '唐代罗汉像残片图'}],\n",
       " '西周人龙合纹玉璜': [{'s': '西周人龙合纹玉璜', 'p': '相关文物', 'o': '西周人龙合纹玉璜'},\n",
       "  {'s': '西周人龙合纹玉璜', 'p': '所属时代', 'o': '西周'},\n",
       "  {'s': '西周人龙合纹玉璜', 'p': '保存于', 'o': '三门峡市虢国博物馆'},\n",
       "  {'s': '三门峡市虢国博物馆', 'p': '馆藏物品', 'o': '西周人龙合纹玉璜'}],\n",
       " '1843年洪水刻记碑': [{'s': '1843年洪水刻记碑', 'p': '所属时代', 'o': '清代'},\n",
       "  {'s': '1843年洪水刻记碑', 'p': '保存于', 'o': '黄河博物馆'},\n",
       "  {'s': '黄河博物馆', 'p': '馆藏物品', 'o': '1843年洪水刻记碑'}],\n",
       " '19世纪航海六分仪': [{'s': '19世纪航海六分仪', 'p': '相关文物', 'o': '19世纪航海六分仪'},\n",
       "  {'s': '19世纪航海六分仪', 'p': '所属时代', 'o': '19世纪'},\n",
       "  {'s': '19世纪航海六分仪', 'p': '保存于', 'o': '鸦片战争博物馆'},\n",
       "  {'s': '鸦片战争博物馆', 'p': '馆藏物品', 'o': '19世纪航海六分仪'}],\n",
       " '三彩花卉枕': [{'s': '三彩花卉枕', 'p': '所属时代', 'o': '宋代'}],\n",
       " '三足香炉鼎座': [{'s': '三足香炉鼎座', 'p': '所属时代', 'o': '明代'},\n",
       "  {'s': '三足香炉鼎座', 'p': '保存于', 'o': '温州市东瓯国历史陈列馆'},\n",
       "  {'s': '东瓯王庙工地月光池', 'p': '相关单位', 'o': '温州市东瓯国历史陈列馆'},\n",
       "  {'s': '温州市东瓯国历史陈列馆', 'p': '馆藏物品', 'o': '三足香炉鼎座'}],\n",
       " '中国': [{'s': '中国（沭阳）花木博物馆', 'p': '所在地', 'o': '沭阳县南部新城区'},\n",
       "  {'s': '5300平方米', 'p': '相关建筑', 'o': '中国（沭阳）花木博物馆'}],\n",
       " '中国湖州古木博物馆': [{'s': '中国湖州古木博物馆', 'p': '所在地', 'o': '湖州太湖旅游度假区'}],\n",
       " '五代越窑青釉瓷执壶': [{'s': '五代越窑青釉瓷执壶', 'p': '所属时代', 'o': '五代'},\n",
       "  {'s': '五代越窑青釉瓷执壶', 'p': '保存于', 'o': '襄阳市博物馆'},\n",
       "  {'s': '襄阳市博物馆', 'p': '馆藏物品', 'o': '五代越窑青釉瓷执壶'}],\n",
       " '五代龙泉窑淡青釉双系盘口长颈带盖瓷瓶': [{'s': '五代龙泉窑淡青釉双系盘口长颈带盖瓷瓶', 'p': '所属时代', 'o': '五代时期'},\n",
       "  {'s': '五代龙泉窑淡青釉双系盘口长颈带盖瓷瓶', 'p': '保存于', 'o': '龙泉青瓷博物馆'},\n",
       "  {'s': '龙泉青瓷博物馆', 'p': '馆藏物品', 'o': '五代龙泉窑淡青釉双系盘口长颈带盖瓷瓶'}],\n",
       " '五代龙泉窑淡青釉瓷双系执壶': [{'s': '五代龙泉窑淡青釉瓷双系执壶', 'p': '所属时代', 'o': '五代时期'},\n",
       "  {'s': '五代龙泉窑淡青釉瓷双系执壶', 'p': '保存于', 'o': '龙泉青瓷博物馆'},\n",
       "  {'s': '龙泉青瓷博物馆', 'p': '馆藏物品', 'o': '五代龙泉窑淡青釉瓷双系执壶'}],\n",
       " '伊利草原乳文化博物馆': [{'s': '伊利草原乳文化博物馆', 'p': '所在地', 'o': '内蒙古呼和浩特市'},\n",
       "  {'s': '伊利草原乳文化博物馆', 'p': '面积大小', 'o': '5000平方米'}],\n",
       " '元代白釉黑花罐': [{'s': '元代白釉黑花罐', 'p': '所属时代', 'o': '元代'},\n",
       "  {'s': '元代白釉黑花罐', 'p': '保存于', 'o': '聊城中国运河文化博物馆'},\n",
       "  {'s': '聊城中国运河文化博物馆', 'p': '馆藏物品', 'o': '元代白釉黑花罐'}],\n",
       " '元剔犀花口盘': [{'s': '元剔犀花口盘', 'p': '所属时代', 'o': '元朝'},\n",
       "  {'s': '元剔犀花口盘', 'p': '保存于', 'o': '观复博物馆'},\n",
       "  {'s': '观复博物馆', 'p': '馆藏物品', 'o': '元剔犀花口盘'}],\n",
       " '元祖考处士赵公圹志石刻墓志碑': [{'s': '元祖考处士赵公圹志石刻墓志碑', 'p': '所属时代', 'o': '元代'},\n",
       "  {'s': '元祖考处士赵公圹志石刻墓志碑', 'p': '保存于', 'o': '安吉县博物馆'},\n",
       "  {'s': '安吉县博物馆', 'p': '馆藏物品', 'o': '元祖考处士赵公圹志石刻墓志碑'}],\n",
       " '元青花扁菊纹玉壶春瓶': [{'s': '元青花扁菊纹玉壶春瓶', 'p': '所属时代', 'o': '元代'},\n",
       "  {'s': '元青花扁菊纹玉壶春瓶', 'p': '文物尺寸', 'o': '29厘米'},\n",
       "  {'s': '元青花扁菊纹玉壶春瓶', 'p': '保存于', 'o': '观复博物馆'},\n",
       "  {'s': '观复博物馆', 'p': '馆藏物品', 'o': '元青花扁菊纹玉壶春瓶'}],\n",
       " '元青花龙纹玉壶春瓶': [{'s': '元青花龙纹玉壶春瓶', 'p': '所属时代', 'o': '元代'},\n",
       "  {'s': '元青花龙纹玉壶春瓶', 'p': '保存于', 'o': '江西省博物馆'},\n",
       "  {'s': '江西省博物馆', 'p': '馆藏物品', 'o': '元青花龙纹玉壶春瓶'}],\n",
       " '北宋龙泉窑青釉鸡钮盖五叶瓷瓶': [{'s': '北宋龙泉窑青釉鸡钮盖五叶瓷瓶', 'p': '所属时代', 'o': '北宋'},\n",
       "  {'s': '北宋龙泉窑青釉鸡钮盖五叶瓷瓶', 'p': '保存于', 'o': '龙泉青瓷博物馆'},\n",
       "  {'s': '龙泉青瓷博物馆', 'p': '馆藏物品', 'o': '北宋龙泉窑青釉鸡钮盖五叶瓷瓶'}],\n",
       " '北齐陶砚': [{'s': '北齐陶砚', 'p': '相关文物', 'o': '北齐陶砚'},\n",
       "  {'s': '北齐陶砚', 'p': '所属时代', 'o': '北齐时期'},\n",
       "  {'s': '北齐陶砚', 'p': '文物尺寸', 'o': '6.6厘米'},\n",
       "  {'s': '北齐陶砚', 'p': '保存于', 'o': '郑州市东方翰典文化博物馆'},\n",
       "  {'s': '郑州市东方翰典文化博物馆', 'p': '馆藏物品', 'o': '北齐陶砚'}],\n",
       " '南宋龙泉窑粉青盂形罐': [{'s': '南宋龙泉窑粉青盂形罐', 'p': '所属时代', 'o': '南宋'},\n",
       "  {'s': '南宋龙泉窑粉青盂形罐', 'p': '保存于', 'o': '丽水市博物馆'},\n",
       "  {'s': '丽水市博物馆', 'p': '馆藏物品', 'o': '南宋龙泉窑粉青盂形罐'}],\n",
       " '南宋龙泉窑粉青象钮盖罐': [{'s': '南宋龙泉窑粉青象钮盖罐', 'p': '所属时代', 'o': '南宋'},\n",
       "  {'s': '南宋龙泉窑粉青象钮盖罐', 'p': '保存于', 'o': '丽水市博物馆'},\n",
       "  {'s': '丽水市博物馆', 'p': '馆藏物品', 'o': '南宋龙泉窑粉青象钮盖罐'}],\n",
       " '南戏博物馆': [{'s': '南戏博物馆', 'p': '所在地', 'o': '鹿城区'},\n",
       "  {'s': '南戏博物馆', 'p': '所属时代', 'o': '二十世纪二十年代'},\n",
       "  {'s': '南戏博物馆', 'p': '相关人物', 'o': '葛明斋'},\n",
       "  {'s': '南戏博物馆', 'p': '成立时间', 'o': '二十世纪二十年代'}],\n",
       " '南昌县博物馆': [{'s': '南昌县博物馆', 'p': '面积大小', 'o': '3120平方米'}],\n",
       " '叶仲三玻璃内画鱼藻图鼻烟壶': [{'s': '叶仲三玻璃内画鱼藻图鼻烟壶', 'p': '文物尺寸', 'o': '7.5厘米'}],\n",
       " '唐开元八年钟': [],\n",
       " '唐长沙窑奔鹿执壶': [{'s': '唐长沙窑奔鹿执壶', 'p': '所属时代', 'o': '唐代'},\n",
       "  {'s': '唐长沙窑奔鹿执壶', 'p': '文物尺寸', 'o': '19.4厘米'},\n",
       "  {'s': '唐长沙窑奔鹿执壶', 'p': '保存于', 'o': '宁波博物馆'},\n",
       "  {'s': '宁波博物馆', 'p': '馆藏物品', 'o': '唐长沙窑奔鹿执壶'}],\n",
       " '商代晚期兽面蝉翼纹柱足圆形青铜鼎': [{'s': '商代晚期兽面蝉翼纹柱足圆形青铜鼎', 'p': '所属时代', 'o': '商代晚期'},\n",
       "  {'s': '商代晚期兽面蝉翼纹柱足圆形青铜鼎', 'p': '文物尺寸', 'o': '22.2厘米'},\n",
       "  {'s': '商代晚期兽面蝉翼纹柱足圆形青铜鼎', 'p': '保存于', 'o': '郑州市华夏文化艺术博物馆'},\n",
       "  {'s': '郑州市华夏文化艺术博物馆', 'p': '馆藏物品', 'o': '商代晚期兽面蝉翼纹柱足圆形青铜鼎'}],\n",
       " '商代活环屈蹲羽人玉佩饰': [{'s': '商代活环屈蹲羽人', 'p': '相关文物', 'o': '商代活环屈蹲羽人玉佩饰'},\n",
       "  {'s': '商代活环屈蹲羽人玉佩饰', 'p': '所属时代', 'o': '商代'},\n",
       "  {'s': '商代活环屈蹲羽人玉佩饰', 'p': '文物尺寸', 'o': '8.7厘米'},\n",
       "  {'s': '商代活环屈蹲羽人玉佩饰', 'p': '保存于', 'o': '江西省博物馆'},\n",
       "  {'s': '江西省博物馆', 'p': '馆藏物品', 'o': '商代活环屈蹲羽人玉佩饰'}],\n",
       " '姜立纲': [{'s': '姜立纲', 'p': '所属时代', 'o': '明朝'}],\n",
       " '宋代磁州窑骑马人玩具': [{'s': '宋代磁州窑骑马人玩具', 'p': '相关文物', 'o': '宋代磁州窑骑马人玩具'},\n",
       "  {'s': '宋代磁州窑骑马人玩具', 'p': '所属时代', 'o': '宋代'},\n",
       "  {'s': '宋代磁州窑骑马人玩具', 'p': '保存于', 'o': '安阳殷畿艺术博物馆'},\n",
       "  {'s': '安阳殷畿艺术博物馆', 'p': '馆藏物品', 'o': '宋代磁州窑骑马人玩具'}],\n",
       " '宋绿地酱彩刻划“缠枝牡丹”弦纹瓶': [{'s': '宋绿地酱彩刻划“缠枝牡丹”弦纹瓶', 'p': '所属时代', 'o': '宋代'},\n",
       "  {'s': '宋绿地酱彩刻划“缠枝牡丹”弦纹瓶', 'p': '保存于', 'o': '丽水市博物馆'},\n",
       "  {'s': '丽水市博物馆', 'p': '馆藏物品', 'o': '宋绿地酱彩刻划“缠枝牡丹”弦纹瓶'}],\n",
       " '屯溪博物馆': [{'s': '屯溪博物馆', 'p': '所在地', 'o': '屯溪老街168号'},\n",
       "  {'s': '屯溪博物馆', 'p': '面积大小', 'o': '700平方米'}],\n",
       " '岐山县博物馆': [{'s': '歧山县博物管', 'p': '所在地', 'o': '岐山县城北大街'},\n",
       "  {'s': '歧山县博物管', 'p': '相关单位', 'o': '岐山县文化旅游局'},\n",
       "  {'s': '歧山县博物管', 'p': '馆长', 'o': '1名'}],\n",
       " '帝王绍运图': [{'s': '《帝王绍运图', 'p': '所属时代', 'o': '南宋'},\n",
       "  {'s': '《帝王绍运图', 'p': '相关人物', 'o': '黄裳'}],\n",
       " '张作霖的水獭帽': [{'s': '张作霖的水獭帽', 'p': '文物尺寸', 'o': '15.6厘米'},\n",
       "  {'s': '张作霖的水獭帽', 'p': '保存于', 'o': '张氏帅府博物馆'},\n",
       "  {'s': '张氏帅府博物馆', 'p': '馆藏物品', 'o': '张作霖的水獭帽'}],\n",
       " '德其簋': [{'s': '簋', 'p': '相关文物', 'o': '德其簋'},\n",
       "  {'s': '德其簋', 'p': '所属时代', 'o': '西周时期'},\n",
       "  {'s': '德其簋', 'p': '发现时间', 'o': '商前期'},\n",
       "  {'s': '德其簋', 'p': '保存于', 'o': '吉林大学博物馆'},\n",
       "  {'s': '吉林大学博物馆', 'p': '馆藏物品', 'o': '德其簋'}],\n",
       " '战国晚期四足方铜鼎': [{'s': '战国晚期四足方铜鼎', 'p': '所属时代', 'o': '战国晚期'},\n",
       "  {'s': '战国晚期四足方铜鼎', 'p': '保存于', 'o': '襄阳市博物馆'},\n",
       "  {'s': '襄阳市博物馆', 'p': '馆藏物品', 'o': '战国晚期四足方铜鼎'}],\n",
       " '抗日烈士纪念塔': [{'s': '抗日烈士纪念塔', 'p': '所在地', 'o': '西平县'}],\n",
       " '新石器时代彩陶背壶': [{'s': '新石器时代彩陶背壶', 'p': '所属时代', 'o': '新石器时代'},\n",
       "  {'s': '新石器时代彩陶背壶', 'p': '保存于', 'o': '聊城中国运河文化博物馆'},\n",
       "  {'s': '聊城中国运河文化博物馆', 'p': '馆藏物品', 'o': '新石器时代彩陶背壶'}],\n",
       " '新石器时代红陶实足鬶': [{'s': '新石器时代红陶实足鬶', 'p': '所属时代', 'o': '新石器时代'},\n",
       "  {'s': '新石器时代红陶实足鬶', 'p': '文物尺寸', 'o': '21.7厘米'},\n",
       "  {'s': '新石器时代红陶实足鬶', 'p': '保存于', 'o': '聊城中国运河文化博物馆'},\n",
       "  {'s': '聊城中国运河文化博物馆', 'p': '馆藏物品', 'o': '新石器时代红陶实足鬶'}],\n",
       " '无量寿佛极乐世界唐卡': [{'s': '无量寿佛极乐世界唐卡', 'p': '所属时代', 'o': '18世纪'},\n",
       "  {'s': '45cm', 'p': '文物尺寸', 'o': '无量寿佛极乐世界唐卡'},\n",
       "  {'s': '无量寿佛极乐世界唐卡', 'p': '保存于', 'o': '清宫旧藏'}],\n",
       " '明嵌银丝观音立像': [{'s': '明嵌银丝观音立像', 'p': '相关文物', 'o': '明嵌银丝观音立像'},\n",
       "  {'s': '明嵌银丝观音立像', 'p': '所属时代', 'o': '明代'},\n",
       "  {'s': '明嵌银丝观音立像', 'p': '保存于', 'o': '湖州博物馆'},\n",
       "  {'s': '湖州博物馆', 'p': '馆藏物品', 'o': '明嵌银丝观音立像'}],\n",
       " '明漳窑筒式三足炉': [],\n",
       " '春秋晚期龙纹玉佩饰': [{'s': '春秋晚期龙纹玉佩饰', 'p': '相关文物', 'o': '春秋晚期龙纹玉佩饰'},\n",
       "  {'s': '春秋晚期龙纹玉佩饰', 'p': '所属时代', 'o': '春秋晚期'},\n",
       "  {'s': '春秋晚期龙纹玉佩饰', 'p': '保存于', 'o': '襄阳市博物馆'},\n",
       "  {'s': '襄阳市博物馆', 'p': '馆藏物品', 'o': '春秋晚期龙纹玉佩饰'}],\n",
       " '晋城博物馆': [{'s': '晋城博物馆', 'p': '所在地', 'o': '山西省晋城市'},\n",
       "  {'s': '晋城博物馆', 'p': '面积大小', 'o': '1.6公顷'},\n",
       "  {'s': '晋城市古建筑艺术博物馆', 'p': '相关建筑', 'o': '晋城博物馆'},\n",
       "  {'s': '晋城博物馆', 'p': '馆藏物品', 'o': '历代陶俑'}],\n",
       " '林锦星金鱼青田石雕': [{'s': '林锦星金鱼青田石雕', 'p': '所属时代', 'o': '现代'},\n",
       "  {'s': '林锦星金鱼青田石雕', 'p': '保存于', 'o': '杭州工艺美术博物馆'},\n",
       "  {'s': '杭州工艺美术博物馆', 'p': '馆藏物品', 'o': '林锦星金鱼青田石雕'}],\n",
       " '民国玉簪': [{'s': '民国玉簪', 'p': '相关文物', 'o': '民国玉簪'},\n",
       "  {'s': '民国玉簪', 'p': '所属时代', 'o': '民国时期'},\n",
       "  {'s': '民国玉簪', 'p': '保存于', 'o': '会理县红军长征纪念馆'},\n",
       "  {'s': '会理县红军长征纪念馆', 'p': '馆藏物品', 'o': '民国玉簪'}],\n",
       " '民国铜质缆绳发射器': [{'s': '民国铜质缆绳发射器', 'p': '相关文物', 'o': '民国铜质缆绳发射器'},\n",
       "  {'s': '民国铜质缆绳发射器', 'p': '所属时代', 'o': '民国时期'},\n",
       "  {'s': '民国铜质缆绳发射器', 'p': '保存于', 'o': '武汉中山舰博物馆'},\n",
       "  {'s': '武汉中山舰博物馆', 'p': '馆藏物品', 'o': '民国铜质缆绳发射器'}],\n",
       " '民间自制凉茶场景': [{'s': '民间自制凉茶', 'p': '保存于', 'o': '广州神农草堂中医药博物馆'},\n",
       "  {'s': '广州神农草堂中医药博物馆', 'p': '馆藏物品', 'o': '民间自制凉茶场景'}],\n",
       " '汉代部曲俑': [{'s': '汉代部曲俑', 'p': '所属时代', 'o': '汉代'},\n",
       "  {'s': '汉代部曲俑', 'p': '保存于', 'o': '成都香米园汉陶艺术博物馆'},\n",
       "  {'s': '成都香米园汉陶艺术博物馆', 'p': '馆藏物品', 'o': '汉代部曲俑'}],\n",
       " '汉代陶鸡': [{'s': '灰陶合范', 'p': '相关文物', 'o': '汉代陶鸡'},\n",
       "  {'s': '汉代陶鸡', 'p': '所属时代', 'o': '汉代'},\n",
       "  {'s': '汉代陶鸡', 'p': '保存于', 'o': '成都香米园汉陶艺术博物馆'},\n",
       "  {'s': '成都香米园汉陶艺术博物馆', 'p': '馆藏物品', 'o': '汉代陶鸡'}],\n",
       " '泥河湾博物馆': [],\n",
       " '洛阳碑志拓片博物馆': [{'s': '洛阳碑志拓片博物馆', 'p': '相关人物', 'o': '刘建军'},\n",
       "  {'s': '洛阳碑志拓片博物馆', 'p': '馆长', 'o': '刘建军'}],\n",
       " '海昏侯': [],\n",
       " '深圳古生物博物馆': [{'s': '深圳古生物博物馆', 'p': '所在地', 'o': '深圳仙湖植物园'},\n",
       "  {'s': '深圳古生物博物馆', 'p': '面积大小', 'o': '2000余平方米'}],\n",
       " '清乾隆青白玉透雕双螭海棠式杯': [{'s': '清乾隆青白玉透雕双螭海棠式杯', 'p': '所属时代', 'o': '清代'},\n",
       "  {'s': '清乾隆青白玉透雕双螭海棠式杯', 'p': '文物尺寸', 'o': '7.2厘米'},\n",
       "  {'s': '清乾隆青白玉透雕双螭海棠式杯', 'p': '保存于', 'o': '厦门市博物馆'},\n",
       "  {'s': '厦门市博物馆', 'p': '馆藏物品', 'o': '清乾隆青白玉透雕双螭海棠式杯'}],\n",
       " '清人物楼阁金钏': [{'s': '清人物楼阁金钏', 'p': '相关文物', 'o': '清人物楼阁金钏'},\n",
       "  {'s': '清人物楼阁金钏', 'p': '所属时代', 'o': '清代'},\n",
       "  {'s': '清人物楼阁金钏', 'p': '保存于', 'o': '安吉县博物馆'},\n",
       "  {'s': '安吉县博物馆', 'p': '馆藏物品', 'o': '清人物楼阁金钏'}],\n",
       " '清仿“大明宣德年制”款铜鼎炉': [{'s': '清仿“大明宣德年制”款铜鼎炉', 'p': '所属时代', 'o': '清代'},\n",
       "  {'s': '清仿“大明宣德年制”款铜鼎炉', 'p': '保存于', 'o': '丽水市博物馆'},\n",
       "  {'s': '丽水市博物馆', 'p': '馆藏物品', 'o': '清仿“大明宣德年制”款铜鼎炉'}],\n",
       " '清光绪虚谷设色松鼠紫藤图轴': [{'s': '清光绪虚谷设色松鼠紫藤图轴', 'p': '所属时代', 'o': '清代'},\n",
       "  {'s': '清光绪虚谷设色松鼠紫藤图轴', 'p': '保存于', 'o': '嘉兴博物馆'},\n",
       "  {'s': '嘉兴博物馆', 'p': '馆藏物品', 'o': '清光绪虚谷设色松鼠紫藤图轴'}],\n",
       " '清打籽绣蝠寿扇袋': [{'s': '清打籽绣蝠寿扇袋', 'p': '所属时代', 'o': '清时期'},\n",
       "  {'s': '清打籽绣蝠寿扇袋', 'p': '保存于', 'o': '杭州工艺美术博物馆'},\n",
       "  {'s': '杭州工艺美术博物馆', 'p': '馆藏物品', 'o': '清打籽绣蝠寿扇袋'}],\n",
       " '清末蓝家竹编官帽': [{'s': '清末蓝家竹编官帽', 'p': '相关文物', 'o': '清末蓝家竹编官帽'},\n",
       "  {'s': '清末蓝家竹编官帽', 'p': '所属时代', 'o': '清末'},\n",
       "  {'s': '清末蓝家竹编官帽', 'p': '保存于', 'o': '景宁畲族自治县畲族博物馆'},\n",
       "  {'s': '景宁畲族自治县畲族博物馆', 'p': '馆藏物品', 'o': '清末蓝家竹编官帽'}],\n",
       " '清状元章鋆闱墨卷': [{'s': '清状元章鋆闱墨卷', 'p': '相关文物', 'o': '清状元章鋆闱墨卷'},\n",
       "  {'s': '清状元章鋆闱墨卷', 'p': '所属时代', 'o': '清代'},\n",
       "  {'s': '清状元章鋆闱墨卷', 'p': '保存于', 'o': '宁波教育博物馆'},\n",
       "  {'s': '宁波教育博物馆', 'p': '馆藏物品', 'o': '清状元章鋆闱墨卷'}],\n",
       " '清程式璲仕女图': [{'s': '清程式璲仕女图', 'p': '所属时代', 'o': '清代'},\n",
       "  {'s': '清程式璲仕女图', 'p': '保存于', 'o': '临海市博物馆'},\n",
       "  {'s': '临海市博物馆', 'p': '馆藏物品', 'o': '清程式璲仕女图'}],\n",
       " '清通草纸画帆船图': [{'s': '清通草纸画帆船图', 'p': '所属时代', 'o': '清朝'},\n",
       "  {'s': '清通草纸画帆船图', 'p': '保存于', 'o': '鸦片战争博物馆'},\n",
       "  {'s': '鸦片战争博物馆', 'p': '馆藏物品', 'o': '清通草纸画帆船图'}],\n",
       " '清雕花圈椅': [{'s': '清雕花圈椅', 'p': '所属时代', 'o': '清代'},\n",
       "  {'s': '清雕花圈椅', 'p': '保存于', 'o': '老雒阳饮食文化博物馆'},\n",
       "  {'s': '老雒阳饮食文化博物馆', 'p': '馆藏物品', 'o': '清雕花圈椅'}],\n",
       " '清龙泉窑青釉刻划花凤尾瓷瓶': [{'s': '清龙泉窑青釉刻划花凤尾瓷瓶', 'p': '所属时代', 'o': '清代'},\n",
       "  {'s': '清龙泉窑青釉刻划花凤尾瓷瓶', 'p': '保存于', 'o': '龙泉青瓷博物馆'},\n",
       "  {'s': '龙泉青瓷博物馆', 'p': '馆藏物品', 'o': '清龙泉窑青釉刻划花凤尾瓷瓶'}],\n",
       " '玄武纹空心砖': [{'s': '玄武纹空心砖', 'p': '所属时代', 'o': '西汉'},\n",
       "  {'s': '玄武纹空心砖', 'p': '发现时间', 'o': '西汉'}],\n",
       " '玉叶组佩': [{'s': '湖北省钟祥市长滩镇梁庄王墓', 'p': '相关文物', 'o': '两条玉鱼'},\n",
       "  {'s': '梁庄王墓', 'p': '所属时代', 'o': '明代'}],\n",
       " '玉虎形佩': [{'s': '战国中山国及其家族墓地', 'p': '相关文物', 'o': '玉虎形佩'},\n",
       "  {'s': '玉虎形佩', 'p': '所属时代', 'o': '战国'},\n",
       "  {'s': '玉虎形佩', 'p': '发现时间', 'o': '战国'},\n",
       "  {'s': '战国中山国及其家族墓地', 'p': '相关单位', 'o': '河北省文物研究所'},\n",
       "  {'s': '河北省文物研究所', 'p': '馆藏物品', 'o': '玉虎形佩'}],\n",
       " '白釉缠枝纹梅瓶': [{'s': '白釉缠枝纹梅瓶', 'p': '所属时代', 'o': '金代'}],\n",
       " '秦御手俑': [{'s': '秦御手俑', 'p': '相关文物', 'o': '秦御手俑'},\n",
       "  {'s': '秦御手俑', 'p': '所属时代', 'o': '秦代'},\n",
       "  {'s': '秦御手俑', 'p': '保存于', 'o': '秦始皇帝陵博物院'},\n",
       "  {'s': '陕西历史博物馆', 'p': '馆藏物品', 'o': '秦御手俑'}],\n",
       " '辽黑釉皮囊壶': [{'s': '辽黑釉皮囊壶', 'p': '所属时代', 'o': '辽代'},\n",
       "  {'s': '辽黑釉皮囊壶', 'p': '保存于', 'o': '观复博物馆'},\n",
       "  {'s': '观复博物馆', 'p': '馆藏物品', 'o': '辽黑釉皮囊壶'}],\n",
       " '金“奉天之宝”玺': [{'s': '金“奉天之宝”玺', 'p': '所属时代', 'o': '清初'},\n",
       "  {'s': '金“奉天之宝”玺', 'p': '保存于', 'o': '故宫博物院'},\n",
       "  {'s': '故宫博物院', 'p': '馆藏物品', 'o': '金“奉天之宝”玺'}],\n",
       " '金华市博物馆': [{'s': '金华市博物馆', 'p': '面积大小', 'o': '13600平方米'},\n",
       "  {'s': '金华市博物馆', 'p': '馆藏物品', 'o': '古籍'}],\n",
       " '镂空座神人头顶罍琮太阳轮': [{'s': '镂空座神人头顶罍琮太阳轮', 'p': '所属时代', 'o': '三星堆文化时期'},\n",
       "  {'s': '镂空座神人头顶罍琮太阳轮', 'p': '保存于', 'o': '厦门上古文化艺术馆'},\n",
       "  {'s': '三星堆文化', 'p': '相关单位', 'o': '厦门上古文化艺术馆'},\n",
       "  {'s': '厦门上古文化艺术馆', 'p': '馆藏物品', 'o': '镂空座'}],\n",
       " '陕西师范大学博物馆': [{'s': '陕西师范大学博物馆', 'p': '面积大小', 'o': '2000平方米'}],\n",
       " '隋代巩县窑青瓷骆驼': [{'s': '隋代巩县窑青瓷骆驼', 'p': '所属时代', 'o': '隋代'},\n",
       "  {'s': '隋代巩县窑青瓷骆驼', 'p': '保存于', 'o': '郑州市华夏文化艺术博物馆'},\n",
       "  {'s': '郑州市华夏文化艺术博物馆', 'p': '馆藏物品', 'o': '隋代巩县窑青瓷骆驼'}],\n",
       " '随州博物馆': [{'s': '随州博物馆', 'p': '所在地', 'o': '湖北省随州市'},\n",
       "  {'s': '随州博物馆', 'p': '面积大小', 'o': '9636平方米'}],\n",
       " '首都博物馆': [{'s': '首都博物馆', 'p': '所在地', 'o': '北京长安街西延长线上、白云路的西侧，复兴门外大街16号'}],\n",
       " '鬲攸从鼎': [{'s': '鬲攸从鼎', 'p': '相关文物', 'o': '鬲攸从鼎'},\n",
       "  {'s': '鬲攸从鼎', 'p': '所属时代', 'o': '西周晚期'},\n",
       "  {'s': '鬲攸从鼎', 'p': '文物尺寸', 'o': '40厘米'},\n",
       "  {'s': '鬲攸从鼎', 'p': '发现时间', 'o': '西周晚期'},\n",
       "  {'s': '鬲攸从鼎', 'p': '保存于', 'o': '日本黑川古文化研究所'},\n",
       "  {'s': '日本黑川古文化研究所', 'p': '馆藏物品', 'o': '鬲攸从鼎'}],\n",
       " '黎平地区独木槽石磨': [{'s': '黎平地区独木槽石磨', 'p': '相关文物', 'o': '黎平地区独木槽石磨'},\n",
       "  {'s': '黎平地区独木槽石磨', 'p': '文物尺寸', 'o': '103厘米'},\n",
       "  {'s': '黎平地区独木槽石磨', 'p': '保存于', 'o': '黎平会议纪念馆'},\n",
       "  {'s': '黎平会议纪念馆', 'p': '馆藏物品', 'o': '黎平地区独木槽石磨'}],\n",
       " '隋白瓷四系罐': [{'s': '隋白瓷四系罐', 'p': '所属时代', 'o': '隋代'},\n",
       "  {'s': '隋白瓷四系罐', 'p': '保存于', 'o': '长军古陶瓷博物馆'},\n",
       "  {'s': '长军古陶瓷博物馆', 'p': '馆藏物品', 'o': '隋白瓷四系罐'}],\n",
       " '隋青釉四系罐': [{'s': '隋青釉四系罐', 'p': '所属时代', 'o': '隋代'},\n",
       "  {'s': '隋青釉四系罐', 'p': '文物尺寸', 'o': '6.9厘米'},\n",
       "  {'s': '隋青釉四系罐', 'p': '保存于', 'o': '濮阳市博物馆'},\n",
       "  {'s': '濮阳市博物馆', 'p': '馆藏物品', 'o': '隋青釉四系罐'}],\n",
       " '青塘长尾岭商代遗址': [{'s': '青塘长尾岭商代遗址', 'p': '相关文物', 'o': '陶器残件'},\n",
       "  {'s': '青塘长尾岭商代遗址', 'p': '所在地', 'o': '青塘长尾岭'},\n",
       "  {'s': '青塘长尾岭商代遗址', 'p': '面积大小', 'o': '1500平方米'}],\n",
       " '青岛土山屯墓群': [{'s': '青岛土山屯墓群', 'p': '相关文物', 'o': '祭台'},\n",
       "  {'s': '青岛土山屯墓群', 'p': '所在地', 'o': '山东省青岛市黄岛区'},\n",
       "  {'s': '青岛土山屯墓群', 'p': '所属时代', 'o': '汉代'},\n",
       "  {'s': '青岛土山屯墓群', 'p': '建设时间', 'o': '汉代'}],\n",
       " '山东石刻艺术博物馆': [{'s': '山东石刻艺术博物馆', 'p': '所在地', 'o': '山东省济南市'},\n",
       "  {'s': '山东石刻艺术博物馆', 'p': '相关人物', 'o': '蒋奂炬'},\n",
       "  {'s': '山东石刻艺术博物馆', 'p': '相关单位', 'o': '山东石刻艺术博物馆'},\n",
       "  {'s': '山东石刻艺术博物馆', 'p': '成立时间', 'o': '1981年9月'},\n",
       "  {'s': '山东石刻艺术博物馆', 'p': '馆长', 'o': '孙天吉'}],\n",
       " '汉代金饼': [{'s': '汉代金饼', 'p': '文物尺寸', 'o': '6.3厘米'},\n",
       "  {'s': '汉代金饼', 'p': '保存于', 'o': '洛阳唐艺金银器博物馆'},\n",
       "  {'s': '洛阳唐艺金银器博物馆', 'p': '馆藏物品', 'o': '汉代金饼'},\n",
       "  {'s': '汉代金饼', 'p': '文物重量', 'o': '401.65克'}],\n",
       " '唐鎏金银碗': [{'s': '唐鎏金银碗', 'p': '相关文物', 'o': '唐鎏金银碗'},\n",
       "  {'s': '唐鎏金银碗', 'p': '所属时代', 'o': '唐代'},\n",
       "  {'s': '6厘米', 'p': '文物尺寸', 'o': '322.52克'},\n",
       "  {'s': '唐鎏金银碗', 'p': '保存于', 'o': '洛阳唐艺金银器博物馆'},\n",
       "  {'s': '洛阳唐艺金银器博物馆', 'p': '馆藏物品', 'o': '唐鎏金银碗'}]}"
      ]
     },
     "execution_count": 96,
     "metadata": {},
     "output_type": "execute_result"
    }
   ],
   "source": [
    "submit_file = {}\n",
    "for pred,id in tqdm(zip(results,ids)):\n",
    "    submit_file[id] = []\n",
    "    for idx,(spok,spov) in enumerate(pred.items()):\n",
    "        if \"relations\" in spov[0].keys():\n",
    "            p = spok\n",
    "            o = spov[0]['text']\n",
    "            s = spov[0]['relations'][list(spov[0]['relations'].keys())[0]][0]['text']\n",
    "            submit_file[id].append({\"s\": s, \"p\":p, \"o\": o})\n",
    "submit_file"
   ]
  },
  {
   "cell_type": "code",
   "execution_count": 97,
   "metadata": {
    "collapsed": false,
    "execution": {
     "iopub.execute_input": "2022-06-15T02:08:09.302211Z",
     "iopub.status.busy": "2022-06-15T02:08:09.301289Z",
     "iopub.status.idle": "2022-06-15T02:08:09.310653Z",
     "shell.execute_reply": "2022-06-15T02:08:09.310073Z",
     "shell.execute_reply.started": "2022-06-15T02:08:09.302168Z"
    },
    "jupyter": {
     "outputs_hidden": false
    },
    "pycharm": {
     "name": "#%%\n"
    },
    "scrolled": true,
    "tags": []
   },
   "outputs": [],
   "source": [
    "with open(\"work/results.json\",\"w\",encoding=\"utf-8\") as f:\n",
    "        f.write(json.dumps(submit_file,ensure_ascii=False,indent=4))"
   ]
  },
  {
   "cell_type": "markdown",
   "metadata": {},
   "source": [
    "![](https://ai-studio-static-online.cdn.bcebos.com/908aded725bb4e64b509813d311826acbfbaa709873e440aa95658e60073a778)\n"
   ]
  },
  {
   "cell_type": "markdown",
   "metadata": {
    "pycharm": {
     "name": "#%% md\n"
    }
   },
   "source": [
    "# 复赛问答Baseline代码\n",
    "\n",
    "待定..."
   ]
  }
 ],
 "metadata": {
  "kernelspec": {
   "display_name": "Python 3",
   "language": "python",
   "name": "py35-paddle1.2.0"
  },
  "language_info": {
   "codemirror_mode": {
    "name": "ipython",
    "version": 3
   },
   "file_extension": ".py",
   "mimetype": "text/x-python",
   "name": "python",
   "nbconvert_exporter": "python",
   "pygments_lexer": "ipython3",
   "version": "3.7.4"
  }
 },
 "nbformat": 4,
 "nbformat_minor": 4
}
